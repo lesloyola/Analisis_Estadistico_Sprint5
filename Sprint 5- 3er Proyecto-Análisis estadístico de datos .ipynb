{
 "cells": [
  {
   "cell_type": "markdown",
   "metadata": {
    "id": "3rYiDeEH0q0f"
   },
   "source": [
    "# ¿Cuál es la mejor tarifa?\n",
    "\n",
    "Trabajas como analista para el operador de telecomunicaciones Megaline. La empresa ofrece a sus clientes dos tarifas de prepago, Surf y Ultimate. El departamento comercial quiere saber cuál de las tarifas genera más ingresos para poder ajustar el presupuesto de publicidad.\n",
    "\n",
    "Vas a realizar un análisis preliminar de las tarifas basado en una selección de clientes relativamente pequeña. Tendrás los datos de 500 clientes de Megaline: quiénes son los clientes, de dónde son, qué tarifa usan, así como la cantidad de llamadas que hicieron y los mensajes de texto que enviaron en 2018. Tu trabajo es analizar el comportamiento de los clientes y determinar qué tarifa de prepago genera más ingresos."
   ]
  },
  {
   "cell_type": "markdown",
   "metadata": {
    "id": "VNddPNRQ0q0w"
   },
   "source": [
    "El propósito del proyecto es analizar y comparar el comportamiento de los clientes de las tarifas Surf y Ultimate de Megaline para determinar cuál de estas tarifas genera más ingresos. Esta información permitirá al departamento comercial de Megaline ajustar el presupuesto de publicidad de manera más efectiva, enfocándose en la tarifa que sea más rentable para la empresa. Se realizará la carga y exploración de datos, asi como un análisis descriptivo,\n",
    "un cálculo de ingresos, visualización de datos y finalmente sacaremos conclusiones y recomendaciones"
   ]
  },
  {
   "cell_type": "markdown",
   "metadata": {
    "id": "MQi4IPy70q0y"
   },
   "source": [
    "## Inicialización"
   ]
  },
  {
   "cell_type": "code",
   "execution_count": 1,
   "metadata": {
    "id": "MtYIuBxu0q0z"
   },
   "outputs": [],
   "source": [
    "from scipy import stats as st\n",
    "from math import factorial\n",
    "import pandas as pd\n",
    "import seaborn as sns\n",
    "import numpy as np\n",
    "import math as mt\n",
    "import matplotlib.pyplot as plt"
   ]
  },
  {
   "cell_type": "markdown",
   "metadata": {
    "id": "4ysWWC5i0q00"
   },
   "source": [
    "## Cargar datos"
   ]
  },
  {
   "cell_type": "code",
   "execution_count": 2,
   "metadata": {
    "id": "CCqPW7rS0q01"
   },
   "outputs": [],
   "source": [
    "# Carga los archivos de datos en diferentes DataFrames\n",
    "calls = pd.read_csv ('/datasets/megaline_calls.csv')\n",
    "\n",
    "internet = pd.read_csv('/datasets/megaline_internet.csv')\n",
    "\n",
    "messages = pd.read_csv('/datasets/megaline_messages.csv') \n",
    "\n",
    "plans = pd.read_csv('/datasets/megaline_plans.csv') \n",
    "\n",
    "user = pd.read_csv('/datasets/megaline_users.csv')\n"
   ]
  },
  {
   "cell_type": "markdown",
   "metadata": {
    "id": "69qqoJ3r0q01"
   },
   "source": [
    "## Preparar los datos"
   ]
  },
  {
   "cell_type": "code",
   "execution_count": 3,
   "metadata": {
    "id": "vUuZw80S0q01"
   },
   "outputs": [
    {
     "name": "stdout",
     "output_type": "stream",
     "text": [
      "<class 'pandas.core.frame.DataFrame'>\n",
      "RangeIndex: 137735 entries, 0 to 137734\n",
      "Data columns (total 4 columns):\n",
      " #   Column     Non-Null Count   Dtype  \n",
      "---  ------     --------------   -----  \n",
      " 0   id         137735 non-null  object \n",
      " 1   user_id    137735 non-null  int64  \n",
      " 2   call_date  137735 non-null  object \n",
      " 3   duration   137735 non-null  float64\n",
      "dtypes: float64(1), int64(1), object(2)\n",
      "memory usage: 4.2+ MB\n",
      "None\n",
      "<class 'pandas.core.frame.DataFrame'>\n",
      "RangeIndex: 104825 entries, 0 to 104824\n",
      "Data columns (total 4 columns):\n",
      " #   Column        Non-Null Count   Dtype  \n",
      "---  ------        --------------   -----  \n",
      " 0   id            104825 non-null  object \n",
      " 1   user_id       104825 non-null  int64  \n",
      " 2   session_date  104825 non-null  object \n",
      " 3   mb_used       104825 non-null  float64\n",
      "dtypes: float64(1), int64(1), object(2)\n",
      "memory usage: 3.2+ MB\n",
      "None\n",
      "<class 'pandas.core.frame.DataFrame'>\n",
      "RangeIndex: 76051 entries, 0 to 76050\n",
      "Data columns (total 3 columns):\n",
      " #   Column        Non-Null Count  Dtype \n",
      "---  ------        --------------  ----- \n",
      " 0   id            76051 non-null  object\n",
      " 1   user_id       76051 non-null  int64 \n",
      " 2   message_date  76051 non-null  object\n",
      "dtypes: int64(1), object(2)\n",
      "memory usage: 1.7+ MB\n",
      "None\n",
      "<class 'pandas.core.frame.DataFrame'>\n",
      "RangeIndex: 2 entries, 0 to 1\n",
      "Data columns (total 8 columns):\n",
      " #   Column                 Non-Null Count  Dtype  \n",
      "---  ------                 --------------  -----  \n",
      " 0   messages_included      2 non-null      int64  \n",
      " 1   mb_per_month_included  2 non-null      int64  \n",
      " 2   minutes_included       2 non-null      int64  \n",
      " 3   usd_monthly_pay        2 non-null      int64  \n",
      " 4   usd_per_gb             2 non-null      int64  \n",
      " 5   usd_per_message        2 non-null      float64\n",
      " 6   usd_per_minute         2 non-null      float64\n",
      " 7   plan_name              2 non-null      object \n",
      "dtypes: float64(2), int64(5), object(1)\n",
      "memory usage: 256.0+ bytes\n",
      "None\n",
      "<class 'pandas.core.frame.DataFrame'>\n",
      "RangeIndex: 500 entries, 0 to 499\n",
      "Data columns (total 8 columns):\n",
      " #   Column      Non-Null Count  Dtype \n",
      "---  ------      --------------  ----- \n",
      " 0   user_id     500 non-null    int64 \n",
      " 1   first_name  500 non-null    object\n",
      " 2   last_name   500 non-null    object\n",
      " 3   age         500 non-null    int64 \n",
      " 4   city        500 non-null    object\n",
      " 5   reg_date    500 non-null    object\n",
      " 6   plan        500 non-null    object\n",
      " 7   churn_date  34 non-null     object\n",
      "dtypes: int64(2), object(6)\n",
      "memory usage: 31.4+ KB\n",
      "None\n",
      "         id  user_id   call_date  duration\n",
      "0   1000_93     1000  2018-12-27      8.52\n",
      "1  1000_145     1000  2018-12-27     13.66\n",
      "2  1000_247     1000  2018-12-27     14.48\n",
      "3  1000_309     1000  2018-12-28      5.76\n",
      "4  1000_380     1000  2018-12-30      4.22\n",
      "         id  user_id session_date  mb_used\n",
      "0   1000_13     1000   2018-12-29    89.86\n",
      "1  1000_204     1000   2018-12-31     0.00\n",
      "2  1000_379     1000   2018-12-28   660.40\n",
      "3  1000_413     1000   2018-12-26   270.99\n",
      "4  1000_442     1000   2018-12-27   880.22\n",
      "         id  user_id message_date\n",
      "0  1000_125     1000   2018-12-27\n",
      "1  1000_160     1000   2018-12-31\n",
      "2  1000_223     1000   2018-12-31\n",
      "3  1000_251     1000   2018-12-27\n",
      "4  1000_255     1000   2018-12-26\n",
      "   messages_included  mb_per_month_included  minutes_included  \\\n",
      "0                 50                  15360               500   \n",
      "1               1000                  30720              3000   \n",
      "\n",
      "   usd_monthly_pay  usd_per_gb  usd_per_message  usd_per_minute plan_name  \n",
      "0               20          10             0.03            0.03      surf  \n",
      "1               70           7             0.01            0.01  ultimate  \n",
      "   user_id first_name  last_name  age                                   city  \\\n",
      "0     1000   Anamaria      Bauer   45  Atlanta-Sandy Springs-Roswell, GA MSA   \n",
      "1     1001     Mickey  Wilkerson   28        Seattle-Tacoma-Bellevue, WA MSA   \n",
      "2     1002     Carlee    Hoffman   36   Las Vegas-Henderson-Paradise, NV MSA   \n",
      "3     1003   Reynaldo    Jenkins   52                          Tulsa, OK MSA   \n",
      "4     1004    Leonila   Thompson   40        Seattle-Tacoma-Bellevue, WA MSA   \n",
      "\n",
      "     reg_date      plan churn_date  \n",
      "0  2018-12-24  ultimate        NaN  \n",
      "1  2018-08-13      surf        NaN  \n",
      "2  2018-10-21      surf        NaN  \n",
      "3  2018-01-28      surf        NaN  \n",
      "4  2018-05-23      surf        NaN  \n"
     ]
    }
   ],
   "source": [
    "# Exploración inicial de los datos\n",
    "print(calls.info())\n",
    "print(internet.info())\n",
    "print(messages.info())\n",
    "print(plans.info())\n",
    "print(user.info())\n",
    "\n",
    "# Imprimir una muestra de los datos\n",
    "print(calls.head())\n",
    "print(internet.head())\n",
    "print(messages.head())\n",
    "print(plans.head())\n",
    "print(user.head())"
   ]
  },
  {
   "cell_type": "markdown",
   "metadata": {
    "id": "ohBhimvH0q01"
   },
   "source": [
    "## Tarifas"
   ]
  },
  {
   "cell_type": "code",
   "execution_count": 4,
   "metadata": {
    "id": "GptqP3Q40q02"
   },
   "outputs": [
    {
     "name": "stdout",
     "output_type": "stream",
     "text": [
      "<class 'pandas.core.frame.DataFrame'>\n",
      "RangeIndex: 2 entries, 0 to 1\n",
      "Data columns (total 8 columns):\n",
      " #   Column                 Non-Null Count  Dtype  \n",
      "---  ------                 --------------  -----  \n",
      " 0   messages_included      2 non-null      int64  \n",
      " 1   mb_per_month_included  2 non-null      int64  \n",
      " 2   minutes_included       2 non-null      int64  \n",
      " 3   usd_monthly_pay        2 non-null      int64  \n",
      " 4   usd_per_gb             2 non-null      int64  \n",
      " 5   usd_per_message        2 non-null      float64\n",
      " 6   usd_per_minute         2 non-null      float64\n",
      " 7   plan_name              2 non-null      object \n",
      "dtypes: float64(2), int64(5), object(1)\n",
      "memory usage: 256.0+ bytes\n"
     ]
    }
   ],
   "source": [
    "# Imprime la información general/resumida sobre el DataFrame de las tarifas\n",
    "plans.info()"
   ]
  },
  {
   "cell_type": "code",
   "execution_count": 5,
   "metadata": {
    "id": "64xzjwL70q02"
   },
   "outputs": [
    {
     "data": {
      "text/plain": [
       "messages_included          525.00\n",
       "mb_per_month_included    23040.00\n",
       "minutes_included          1750.00\n",
       "usd_monthly_pay             45.00\n",
       "usd_per_gb                   8.50\n",
       "usd_per_message              0.02\n",
       "usd_per_minute               0.02\n",
       "dtype: float64"
      ]
     },
     "execution_count": 5,
     "metadata": {},
     "output_type": "execute_result"
    }
   ],
   "source": [
    "# Imprime una muestra de los datos para las tarifas\n",
    "\n",
    "plans.mean()"
   ]
  },
  {
   "cell_type": "markdown",
   "metadata": {
    "id": "mEc_3_hs0q02"
   },
   "source": [
    "El DataFrame de 2 filas y 8 columnas no tiene valores nulos y presenta tipos de datos adecuados. Las medias de las tarifas indican 525 mensajes, 23040 MB (23 GB), 1750 minutos, un pago mensual promedio de $45, un costo promedio de $8.50 por GB, $0.02 por mensaje y $0.02 por minuto. No hay problemas con los tipos de datos ni datos ausentes, pero el tamaño de la muestra es demasiado pequeño para un análisis estadístico significativo. Se recomienda aumentar el tamaño de la muestra y verificar su representatividad para obtener resultados más precisos y realizar análisis adicionales."
   ]
  },
  {
   "cell_type": "markdown",
   "metadata": {
    "id": "R3C05i1l0q03"
   },
   "source": [
    "## Corregir datos"
   ]
  },
  {
   "cell_type": "markdown",
   "metadata": {
    "id": "bIi8StZI0q03"
   },
   "source": [
    "[Corrige los problemas obvios con los datos basándote en las observaciones iniciales.]"
   ]
  },
  {
   "cell_type": "code",
   "execution_count": 6,
   "metadata": {
    "id": "Y7SVmjGn0q03"
   },
   "outputs": [
    {
     "name": "stdout",
     "output_type": "stream",
     "text": [
      "messages_included        0\n",
      "mb_per_month_included    0\n",
      "minutes_included         0\n",
      "usd_monthly_pay          0\n",
      "usd_per_gb               0\n",
      "usd_per_message          0\n",
      "usd_per_minute           0\n",
      "plan_name                0\n",
      "dtype: int64\n",
      "0\n",
      "messages_included          int64\n",
      "mb_per_month_included      int64\n",
      "minutes_included           int64\n",
      "usd_monthly_pay            int64\n",
      "usd_per_gb                 int64\n",
      "usd_per_message          float64\n",
      "usd_per_minute           float64\n",
      "plan_name                 object\n",
      "dtype: object\n"
     ]
    }
   ],
   "source": [
    "# Verificar y corregir datos nulos, si los hubiera\n",
    "\n",
    "print(plans.isnull().sum())\n",
    "print(plans.duplicated().sum())\n",
    "\n",
    "# Verificar tipos de datos y convertir si es necesario\n",
    "\n",
    "print(plans.dtypes)"
   ]
  },
  {
   "cell_type": "markdown",
   "metadata": {
    "id": "LJir7bml0q03"
   },
   "source": [
    "## Enriquecer los datos"
   ]
  },
  {
   "cell_type": "markdown",
   "metadata": {
    "id": "eqADpCfg0q04"
   },
   "source": [
    "[Agrega factores adicionales a los datos si crees que pudieran ser útiles.]"
   ]
  },
  {
   "cell_type": "markdown",
   "metadata": {
    "id": "gfcIEuXV0q04"
   },
   "source": [
    "El marco de datos de Precios (Planes) no requiere que se agregue elementos ni realice modificaciones en función de la información proporcionada.\n",
    "Esto se debe a que  ya contiene toda la información relevante sobre  el  plan, y como no hay valores nulos ni duplicados y el tipo de datos es correcto.\n",
    "Por lo tanto, no se requieren modificaciones ni mejoras adicionales en este DataFrame."
   ]
  },
  {
   "cell_type": "markdown",
   "metadata": {
    "id": "1n2X6WXf0q04"
   },
   "source": [
    "## Usuarios/as"
   ]
  },
  {
   "cell_type": "code",
   "execution_count": 7,
   "metadata": {
    "id": "2NgjWFqx0q05"
   },
   "outputs": [
    {
     "name": "stdout",
     "output_type": "stream",
     "text": [
      "<class 'pandas.core.frame.DataFrame'>\n",
      "RangeIndex: 500 entries, 0 to 499\n",
      "Data columns (total 8 columns):\n",
      " #   Column      Non-Null Count  Dtype \n",
      "---  ------      --------------  ----- \n",
      " 0   user_id     500 non-null    int64 \n",
      " 1   first_name  500 non-null    object\n",
      " 2   last_name   500 non-null    object\n",
      " 3   age         500 non-null    int64 \n",
      " 4   city        500 non-null    object\n",
      " 5   reg_date    500 non-null    object\n",
      " 6   plan        500 non-null    object\n",
      " 7   churn_date  34 non-null     object\n",
      "dtypes: int64(2), object(6)\n",
      "memory usage: 31.4+ KB\n"
     ]
    }
   ],
   "source": [
    "# Imprime la información general/resumida sobre el DataFrame de usuarios\n",
    "user.info()"
   ]
  },
  {
   "cell_type": "code",
   "execution_count": 8,
   "metadata": {
    "id": "1IN1L9uh0q05"
   },
   "outputs": [
    {
     "data": {
      "text/plain": [
       "user_id    1249.500\n",
       "age          45.486\n",
       "dtype: float64"
      ]
     },
     "execution_count": 8,
     "metadata": {},
     "output_type": "execute_result"
    }
   ],
   "source": [
    "# Imprime una muestra de datos para usuarios\n",
    "\n",
    "user.mean()"
   ]
  },
  {
   "cell_type": "markdown",
   "metadata": {
    "id": "dCZoUq4f0q06"
   },
   "source": [
    "User cuenta con 34 registros, sugiriendo una muestra relativamente pequeña de usuarios. Los tipos de datos son: user_id (int64), first_name (object), last_name (object), age (int64), city (object), reg_date (object), plan (object), y churn_date (object). Las columnas user_id y age tienen tipos de datos adecuados, mientras que reg_date y churn_date deberían ser de tipo datetime para facilitar el análisis temporal. No hay valores nulos en ninguna de las columnas, lo cual es positivo ya que no se requiere imputación de datos faltantes."
   ]
  },
  {
   "cell_type": "markdown",
   "metadata": {
    "id": "BX5FQh_I0q06"
   },
   "source": [
    "### Corregir los datos"
   ]
  },
  {
   "cell_type": "markdown",
   "metadata": {
    "id": "8OdKMwJv0q06"
   },
   "source": [
    "[Corrige los problemas obvios con los datos basándote en las observaciones iniciales.]"
   ]
  },
  {
   "cell_type": "code",
   "execution_count": 9,
   "metadata": {
    "id": "yUqX-K0C0q07"
   },
   "outputs": [
    {
     "name": "stdout",
     "output_type": "stream",
     "text": [
      "<class 'pandas.core.frame.DataFrame'>\n",
      "RangeIndex: 500 entries, 0 to 499\n",
      "Data columns (total 8 columns):\n",
      " #   Column      Non-Null Count  Dtype         \n",
      "---  ------      --------------  -----         \n",
      " 0   user_id     500 non-null    int64         \n",
      " 1   first_name  500 non-null    object        \n",
      " 2   last_name   500 non-null    object        \n",
      " 3   age         500 non-null    int64         \n",
      " 4   city        500 non-null    object        \n",
      " 5   reg_date    500 non-null    datetime64[ns]\n",
      " 6   plan        500 non-null    object        \n",
      " 7   churn_date  34 non-null     datetime64[ns]\n",
      "dtypes: datetime64[ns](2), int64(2), object(4)\n",
      "memory usage: 31.4+ KB\n",
      "None\n"
     ]
    }
   ],
   "source": [
    "user['reg_date'] = pd.to_datetime(user['reg_date'])\n",
    "user['churn_date'] = pd.to_datetime(user['churn_date'])\n",
    "print(user.info())"
   ]
  },
  {
   "cell_type": "markdown",
   "metadata": {
    "id": "ycwuARJp0q07"
   },
   "source": [
    "### Enriquecer los datos"
   ]
  },
  {
   "cell_type": "markdown",
   "metadata": {
    "id": "96NIh4CJ0q08"
   },
   "source": [
    "[Agrega factores adicionales a los datos si crees que pudieran ser útiles.]"
   ]
  },
  {
   "cell_type": "code",
   "execution_count": 10,
   "metadata": {
    "id": "iq0AaBS90q08"
   },
   "outputs": [
    {
     "name": "stdout",
     "output_type": "stream",
     "text": [
      "<class 'pandas.core.frame.DataFrame'>\n",
      "RangeIndex: 500 entries, 0 to 499\n",
      "Data columns (total 10 columns):\n",
      " #   Column      Non-Null Count  Dtype         \n",
      "---  ------      --------------  -----         \n",
      " 0   user_id     500 non-null    int64         \n",
      " 1   first_name  500 non-null    object        \n",
      " 2   last_name   500 non-null    object        \n",
      " 3   age         500 non-null    int64         \n",
      " 4   city        500 non-null    object        \n",
      " 5   reg_date    500 non-null    datetime64[ns]\n",
      " 6   plan        500 non-null    object        \n",
      " 7   churn_date  34 non-null     datetime64[ns]\n",
      " 8   duration    500 non-null    int64         \n",
      " 9   is_active   500 non-null    bool          \n",
      "dtypes: bool(1), datetime64[ns](2), int64(3), object(4)\n",
      "memory usage: 35.8+ KB\n",
      "None\n",
      "   user_id first_name  last_name  age                                   city  \\\n",
      "0     1000   Anamaria      Bauer   45  Atlanta-Sandy Springs-Roswell, GA MSA   \n",
      "1     1001     Mickey  Wilkerson   28        Seattle-Tacoma-Bellevue, WA MSA   \n",
      "2     1002     Carlee    Hoffman   36   Las Vegas-Henderson-Paradise, NV MSA   \n",
      "3     1003   Reynaldo    Jenkins   52                          Tulsa, OK MSA   \n",
      "4     1004    Leonila   Thompson   40        Seattle-Tacoma-Bellevue, WA MSA   \n",
      "\n",
      "    reg_date      plan churn_date  duration  is_active  \n",
      "0 2018-12-24  ultimate        NaT         7       True  \n",
      "1 2018-08-13      surf        NaT       140       True  \n",
      "2 2018-10-21      surf        NaT        71       True  \n",
      "3 2018-01-28      surf        NaT       337       True  \n",
      "4 2018-05-23      surf        NaT       222       True  \n"
     ]
    }
   ],
   "source": [
    "# Encontrar la última fecha presente en los datos (en 'reg_date' y 'churn_date')\n",
    "last_date = max(user['reg_date'].max(), user['churn_date'].max())\n",
    "\n",
    "# Crear una columna de duración de la suscripción\n",
    "user['duration'] = (user['churn_date'].fillna(last_date) - user['reg_date']).dt.days\n",
    "\n",
    "# Crear una columna de estado de la suscripción\n",
    "user['is_active'] = user['churn_date'].isna()\n",
    "\n",
    "# Mostrar la información del DataFrame enriquecido\n",
    "print(user.info())\n",
    "print(user.head())"
   ]
  },
  {
   "cell_type": "markdown",
   "metadata": {
    "id": "o7MeKCid0q08"
   },
   "source": [
    "## Llamadas"
   ]
  },
  {
   "cell_type": "code",
   "execution_count": 11,
   "metadata": {
    "id": "6dDlnoDm0q08"
   },
   "outputs": [
    {
     "name": "stdout",
     "output_type": "stream",
     "text": [
      "<class 'pandas.core.frame.DataFrame'>\n",
      "RangeIndex: 137735 entries, 0 to 137734\n",
      "Data columns (total 4 columns):\n",
      " #   Column     Non-Null Count   Dtype  \n",
      "---  ------     --------------   -----  \n",
      " 0   id         137735 non-null  object \n",
      " 1   user_id    137735 non-null  int64  \n",
      " 2   call_date  137735 non-null  object \n",
      " 3   duration   137735 non-null  float64\n",
      "dtypes: float64(1), int64(1), object(2)\n",
      "memory usage: 4.2+ MB\n"
     ]
    }
   ],
   "source": [
    "# Imprime la información general/resumida sobre el DataFrame de las llamadas\n",
    "calls.info()"
   ]
  },
  {
   "cell_type": "code",
   "execution_count": 12,
   "metadata": {
    "id": "kuh1vlNB0q09"
   },
   "outputs": [
    {
     "data": {
      "text/plain": [
       "id                  inf\n",
       "user_id     1247.658046\n",
       "duration       6.745927\n",
       "dtype: float64"
      ]
     },
     "execution_count": 12,
     "metadata": {},
     "output_type": "execute_result"
    }
   ],
   "source": [
    "# Imprime una muestra de datos para las llamadas\n",
    "calls.mean()"
   ]
  },
  {
   "cell_type": "markdown",
   "metadata": {
    "id": "DOAxYJSx0q09"
   },
   "source": [
    "\n",
    "La información general del DataFrame calls muestra 137735 entradas y 4 columnas (id, user_id, call_date, duration). Los tipos de datos son: id (objeto), user_id (entero), call_date (objeto) y duration (flotante). La media impresa muestra valores para user_id (1247.658046) y duration (6.745927), pero id resulta en inf, lo cual es incorrecto porque es una cadena de texto. Se observa que call_date debe convertirse a datetime para mejor manipulación, y no se identifican datos ausentes."
   ]
  },
  {
   "cell_type": "markdown",
   "metadata": {
    "id": "S7hzxmbX0q0-"
   },
   "source": [
    "### Corregir los datos"
   ]
  },
  {
   "cell_type": "markdown",
   "metadata": {
    "id": "YxWyAjD20q0-"
   },
   "source": [
    "[Corrige los problemas obvios con los datos basándote en las observaciones iniciales.]"
   ]
  },
  {
   "cell_type": "code",
   "execution_count": 13,
   "metadata": {
    "id": "S2r8xA4f0q0-"
   },
   "outputs": [
    {
     "name": "stdout",
     "output_type": "stream",
     "text": [
      "<class 'pandas.core.frame.DataFrame'>\n",
      "RangeIndex: 137735 entries, 0 to 137734\n",
      "Data columns (total 4 columns):\n",
      " #   Column     Non-Null Count   Dtype         \n",
      "---  ------     --------------   -----         \n",
      " 0   id         137735 non-null  object        \n",
      " 1   user_id    137735 non-null  int64         \n",
      " 2   call_date  137735 non-null  datetime64[ns]\n",
      " 3   duration   137735 non-null  float64       \n",
      "dtypes: datetime64[ns](1), float64(1), int64(1), object(1)\n",
      "memory usage: 4.2+ MB\n",
      "None\n",
      "         id  user_id  call_date  duration\n",
      "0   1000_93     1000 2018-12-27      8.52\n",
      "1  1000_145     1000 2018-12-27     13.66\n",
      "2  1000_247     1000 2018-12-27     14.48\n",
      "3  1000_309     1000 2018-12-28      5.76\n",
      "4  1000_380     1000 2018-12-30      4.22\n",
      "user_id     1247.658046\n",
      "duration       6.745927\n",
      "dtype: float64\n"
     ]
    }
   ],
   "source": [
    "# Convertir la columna 'call_date' a tipo datetime\n",
    "calls['call_date'] = pd.to_datetime(calls['call_date'])\n",
    "\n",
    "# Verificar los cambios realizados\n",
    "print(calls.info())\n",
    "\n",
    "# Imprimir una muestra de los datos para verificar las conversiones\n",
    "print(calls.head())\n",
    "\n",
    "# Calcular la media excluyendo la columna 'id'\n",
    "calls_mean = calls[['user_id', 'duration']].mean()\n",
    "print(calls_mean)"
   ]
  },
  {
   "cell_type": "markdown",
   "metadata": {
    "id": "KrMgTrlG0q0_"
   },
   "source": [
    "### Enriquecer los datos"
   ]
  },
  {
   "cell_type": "markdown",
   "metadata": {
    "id": "a9MbmEvE0q0_"
   },
   "source": [
    "[Agrega factores adicionales a los datos si crees que pudieran ser útiles.]"
   ]
  },
  {
   "cell_type": "code",
   "execution_count": 14,
   "metadata": {
    "id": "iZ1avpA_0q0_"
   },
   "outputs": [
    {
     "name": "stdout",
     "output_type": "stream",
     "text": [
      "<class 'pandas.core.frame.DataFrame'>\n",
      "RangeIndex: 137735 entries, 0 to 137734\n",
      "Data columns (total 5 columns):\n",
      " #   Column     Non-Null Count   Dtype         \n",
      "---  ------     --------------   -----         \n",
      " 0   id         137735 non-null  object        \n",
      " 1   user_id    137735 non-null  int64         \n",
      " 2   call_date  137735 non-null  datetime64[ns]\n",
      " 3   duration   137735 non-null  int64         \n",
      " 4   month      137735 non-null  int64         \n",
      "dtypes: datetime64[ns](1), int64(3), object(1)\n",
      "memory usage: 5.3+ MB\n",
      "None\n",
      "         id  user_id  call_date  duration  month\n",
      "0   1000_93     1000 2018-12-27         9     12\n",
      "1  1000_145     1000 2018-12-27        14     12\n",
      "2  1000_247     1000 2018-12-27        15     12\n",
      "3  1000_309     1000 2018-12-28         6     12\n",
      "4  1000_380     1000 2018-12-30         5     12\n"
     ]
    }
   ],
   "source": [
    "# Agregar una columna de mes\n",
    "calls['month'] = calls['call_date'].dt.month\n",
    "\n",
    "# Redondear la duración de las llamadas al minuto más cercano\n",
    "calls['duration'] = calls['duration'].apply(np.ceil).astype(int)\n",
    "\n",
    "# Verificar los cambios realizados\n",
    "print(calls.info())\n",
    "print(calls.head())"
   ]
  },
  {
   "cell_type": "markdown",
   "metadata": {
    "id": "mOUZSi180q0_"
   },
   "source": [
    "## Mensajes"
   ]
  },
  {
   "cell_type": "code",
   "execution_count": 15,
   "metadata": {
    "id": "R-bYJpdV0q1A"
   },
   "outputs": [
    {
     "name": "stdout",
     "output_type": "stream",
     "text": [
      "<class 'pandas.core.frame.DataFrame'>\n",
      "RangeIndex: 76051 entries, 0 to 76050\n",
      "Data columns (total 3 columns):\n",
      " #   Column        Non-Null Count  Dtype \n",
      "---  ------        --------------  ----- \n",
      " 0   id            76051 non-null  object\n",
      " 1   user_id       76051 non-null  int64 \n",
      " 2   message_date  76051 non-null  object\n",
      "dtypes: int64(1), object(2)\n",
      "memory usage: 1.7+ MB\n"
     ]
    }
   ],
   "source": [
    "# Imprime la información general/resumida sobre el DataFrame de los mensajes\n",
    "\n",
    "messages.info()"
   ]
  },
  {
   "cell_type": "code",
   "execution_count": 16,
   "metadata": {
    "id": "mCEl2iGE0q1A"
   },
   "outputs": [
    {
     "data": {
      "text/plain": [
       "id                 inf\n",
       "user_id    1245.972768\n",
       "dtype: float64"
      ]
     },
     "execution_count": 16,
     "metadata": {},
     "output_type": "execute_result"
    }
   ],
   "source": [
    "# Imprime una muestra de datos para los mensajes\n",
    "\n",
    "messages.mean()"
   ]
  },
  {
   "cell_type": "markdown",
   "metadata": {
    "id": "04xDj7KH0q1A"
   },
   "source": [
    "La información general del DataFrame messages muestra 76051 entradas y 3 columnas (id, user_id, message_date), con tipos de datos: id (objeto), user_id (entero) y message_date (objeto). La media impresa muestra valores para user_id (1245.972768), pero id resulta en inf, ya que es una cadena de texto. Se observa que message_date debería convertirse a datetime para una mejor manipulación, y no se identifican datos ausentes."
   ]
  },
  {
   "cell_type": "markdown",
   "metadata": {
    "id": "Sprfak900q1B"
   },
   "source": [
    "### Corregir los datos"
   ]
  },
  {
   "cell_type": "markdown",
   "metadata": {
    "id": "eGw7d9j10q1B"
   },
   "source": [
    "[Corrige los problemas obvios con los datos basándote en las observaciones iniciales.]"
   ]
  },
  {
   "cell_type": "code",
   "execution_count": 17,
   "metadata": {
    "id": "vsllvkoa0q1B"
   },
   "outputs": [
    {
     "name": "stdout",
     "output_type": "stream",
     "text": [
      "<class 'pandas.core.frame.DataFrame'>\n",
      "RangeIndex: 76051 entries, 0 to 76050\n",
      "Data columns (total 3 columns):\n",
      " #   Column        Non-Null Count  Dtype         \n",
      "---  ------        --------------  -----         \n",
      " 0   id            76051 non-null  object        \n",
      " 1   user_id       76051 non-null  int64         \n",
      " 2   message_date  76051 non-null  datetime64[ns]\n",
      "dtypes: datetime64[ns](1), int64(1), object(1)\n",
      "memory usage: 1.7+ MB\n",
      "None\n",
      "         id  user_id message_date\n",
      "0  1000_125     1000   2018-12-27\n",
      "1  1000_160     1000   2018-12-31\n",
      "2  1000_223     1000   2018-12-31\n",
      "3  1000_251     1000   2018-12-27\n",
      "4  1000_255     1000   2018-12-26\n",
      "user_id    1245.972768\n",
      "dtype: float64\n"
     ]
    }
   ],
   "source": [
    "# Convertir la columna 'message_date' a tipo datetime\n",
    "messages['message_date'] = pd.to_datetime(messages['message_date'])\n",
    "\n",
    "# Verificar los cambios realizados\n",
    "print(messages.info())\n",
    "\n",
    "# Imprimir una muestra de los datos para verificar las conversiones\n",
    "print(messages.head())\n",
    "\n",
    "# Calcular la media excluyendo la columna 'id'\n",
    "messages_mean = messages[['user_id']].mean()\n",
    "print(messages_mean)"
   ]
  },
  {
   "cell_type": "markdown",
   "metadata": {
    "id": "HvLid7iD0q1B"
   },
   "source": [
    "### Enriquecer los datos"
   ]
  },
  {
   "cell_type": "markdown",
   "metadata": {
    "id": "8nhPFKIe0q1C"
   },
   "source": [
    "[Agrega factores adicionales a los datos si crees que pudieran ser útiles.]"
   ]
  },
  {
   "cell_type": "code",
   "execution_count": 18,
   "metadata": {
    "id": "zYEXZac10q1C"
   },
   "outputs": [
    {
     "name": "stdout",
     "output_type": "stream",
     "text": [
      "<class 'pandas.core.frame.DataFrame'>\n",
      "RangeIndex: 76051 entries, 0 to 76050\n",
      "Data columns (total 4 columns):\n",
      " #   Column        Non-Null Count  Dtype         \n",
      "---  ------        --------------  -----         \n",
      " 0   id            76051 non-null  object        \n",
      " 1   user_id       76051 non-null  int64         \n",
      " 2   message_date  76051 non-null  datetime64[ns]\n",
      " 3   month         76051 non-null  int64         \n",
      "dtypes: datetime64[ns](1), int64(2), object(1)\n",
      "memory usage: 2.3+ MB\n",
      "None\n",
      "         id  user_id message_date  month\n",
      "0  1000_125     1000   2018-12-27     12\n",
      "1  1000_160     1000   2018-12-31     12\n",
      "2  1000_223     1000   2018-12-31     12\n",
      "3  1000_251     1000   2018-12-27     12\n",
      "4  1000_255     1000   2018-12-26     12\n"
     ]
    }
   ],
   "source": [
    "# Agregar una columna de mes\n",
    "messages['month'] = messages['message_date'].dt.month\n",
    "\n",
    "# Verificar los cambios realizados\n",
    "print(messages.info())\n",
    "print(messages.head())"
   ]
  },
  {
   "cell_type": "markdown",
   "metadata": {
    "id": "bStkaxn40q1C"
   },
   "source": [
    "## Internet"
   ]
  },
  {
   "cell_type": "code",
   "execution_count": 19,
   "metadata": {
    "id": "e-Uz5qyn0q1C"
   },
   "outputs": [
    {
     "name": "stdout",
     "output_type": "stream",
     "text": [
      "<class 'pandas.core.frame.DataFrame'>\n",
      "RangeIndex: 104825 entries, 0 to 104824\n",
      "Data columns (total 4 columns):\n",
      " #   Column        Non-Null Count   Dtype  \n",
      "---  ------        --------------   -----  \n",
      " 0   id            104825 non-null  object \n",
      " 1   user_id       104825 non-null  int64  \n",
      " 2   session_date  104825 non-null  object \n",
      " 3   mb_used       104825 non-null  float64\n",
      "dtypes: float64(1), int64(1), object(2)\n",
      "memory usage: 3.2+ MB\n"
     ]
    }
   ],
   "source": [
    "# Imprime la información general/resumida sobre el DataFrame de internet\n",
    "\n",
    "internet.info()"
   ]
  },
  {
   "cell_type": "code",
   "execution_count": 20,
   "metadata": {
    "id": "9r3x_XLw0q1C"
   },
   "outputs": [
    {
     "data": {
      "text/plain": [
       "id                 inf\n",
       "user_id    1242.496361\n",
       "mb_used     366.713701\n",
       "dtype: float64"
      ]
     },
     "execution_count": 20,
     "metadata": {},
     "output_type": "execute_result"
    }
   ],
   "source": [
    "# Imprime una muestra de datos para el tráfico de internet\n",
    "\n",
    "internet.mean()"
   ]
  },
  {
   "cell_type": "markdown",
   "metadata": {
    "id": "EzOG5ik30q1D"
   },
   "source": [
    "La información general del DataFrame internet muestra 104825 entradas y 4 columnas (id, user_id, session_date, mb_used), con tipos de datos: id (objeto), user_id (entero), session_date (objeto) y mb_used (flotante). La media impresa muestra valores para user_id (1242.496361) y mb_used (366.713701), pero id resulta en inf, ya que es una cadena de texto. Se observa que session_date debería convertirse a datetime para una mejor manipulación, y no se identifican datos ausentes."
   ]
  },
  {
   "cell_type": "markdown",
   "metadata": {
    "id": "yA0tkPFg0q1D"
   },
   "source": [
    "### Corregir los datos"
   ]
  },
  {
   "cell_type": "markdown",
   "metadata": {
    "id": "zlZMuIEK0q1D"
   },
   "source": [
    "[Corrige los problemas obvios con los datos basándote en las observaciones iniciales.]"
   ]
  },
  {
   "cell_type": "code",
   "execution_count": 21,
   "metadata": {
    "id": "zVeanzdd0q1E"
   },
   "outputs": [
    {
     "name": "stdout",
     "output_type": "stream",
     "text": [
      "<class 'pandas.core.frame.DataFrame'>\n",
      "RangeIndex: 104825 entries, 0 to 104824\n",
      "Data columns (total 4 columns):\n",
      " #   Column        Non-Null Count   Dtype         \n",
      "---  ------        --------------   -----         \n",
      " 0   id            104825 non-null  object        \n",
      " 1   user_id       104825 non-null  int64         \n",
      " 2   session_date  104825 non-null  datetime64[ns]\n",
      " 3   mb_used       104825 non-null  float64       \n",
      "dtypes: datetime64[ns](1), float64(1), int64(1), object(1)\n",
      "memory usage: 3.2+ MB\n",
      "None\n",
      "         id  user_id session_date  mb_used\n",
      "0   1000_13     1000   2018-12-29    89.86\n",
      "1  1000_204     1000   2018-12-31     0.00\n",
      "2  1000_379     1000   2018-12-28   660.40\n",
      "3  1000_413     1000   2018-12-26   270.99\n",
      "4  1000_442     1000   2018-12-27   880.22\n",
      "user_id    1242.496361\n",
      "mb_used     366.713701\n",
      "dtype: float64\n"
     ]
    }
   ],
   "source": [
    "# Convertir la columna 'session_date' a tipo datetime\n",
    "internet['session_date'] = pd.to_datetime(internet['session_date'])\n",
    "\n",
    "# Verificar los cambios realizados\n",
    "print(internet.info())\n",
    "\n",
    "# Imprimir una muestra de los datos para verificar las conversiones\n",
    "print(internet.head())\n",
    "\n",
    "# Calcular la media excluyendo la columna 'id'\n",
    "internet_mean = internet[['user_id', 'mb_used']].mean()\n",
    "print(internet_mean)"
   ]
  },
  {
   "cell_type": "markdown",
   "metadata": {
    "id": "e8_mLF4a0q1E"
   },
   "source": [
    "### Enriquecer los datos"
   ]
  },
  {
   "cell_type": "markdown",
   "metadata": {
    "id": "xhNdn2tE0q1E"
   },
   "source": [
    "[Agrega factores adicionales a los datos si crees que pudieran ser útiles.]"
   ]
  },
  {
   "cell_type": "code",
   "execution_count": 22,
   "metadata": {
    "id": "ESiYPIEK0q1E"
   },
   "outputs": [
    {
     "name": "stdout",
     "output_type": "stream",
     "text": [
      "<class 'pandas.core.frame.DataFrame'>\n",
      "RangeIndex: 104825 entries, 0 to 104824\n",
      "Data columns (total 5 columns):\n",
      " #   Column        Non-Null Count   Dtype         \n",
      "---  ------        --------------   -----         \n",
      " 0   id            104825 non-null  object        \n",
      " 1   user_id       104825 non-null  int64         \n",
      " 2   session_date  104825 non-null  datetime64[ns]\n",
      " 3   mb_used       104825 non-null  float64       \n",
      " 4   month         104825 non-null  int64         \n",
      "dtypes: datetime64[ns](1), float64(1), int64(2), object(1)\n",
      "memory usage: 4.0+ MB\n",
      "None\n",
      "         id  user_id session_date  mb_used  month\n",
      "0   1000_13     1000   2018-12-29    89.86     12\n",
      "1  1000_204     1000   2018-12-31     0.00     12\n",
      "2  1000_379     1000   2018-12-28   660.40     12\n",
      "3  1000_413     1000   2018-12-26   270.99     12\n",
      "4  1000_442     1000   2018-12-27   880.22     12\n"
     ]
    }
   ],
   "source": [
    "# Convertir la columna 'session_date' a tipo datetime\n",
    "internet['session_date'] = pd.to_datetime(internet['session_date'])\n",
    "\n",
    "# Agregar una columna de mes\n",
    "internet['month'] = internet['session_date'].dt.month\n",
    "\n",
    "# Verificar los cambios realizados\n",
    "print(internet.info())\n",
    "print(internet.head())"
   ]
  },
  {
   "cell_type": "markdown",
   "metadata": {
    "id": "3UA2cqIW0q1E"
   },
   "source": [
    "## Estudiar las condiciones de las tarifas"
   ]
  },
  {
   "cell_type": "markdown",
   "metadata": {
    "id": "T86Sqltq0q1F"
   },
   "source": [
    "[Es sumamente importante entender cómo funcionan las tarifas, cómo se les cobra a los usuarios en función de su plan de suscripción. Así que te sugerimos imprimir la información de la tarifa para ver una vez más sus condiciones.]"
   ]
  },
  {
   "cell_type": "code",
   "execution_count": 23,
   "metadata": {
    "id": "i409op8p0q1F"
   },
   "outputs": [
    {
     "name": "stdout",
     "output_type": "stream",
     "text": [
      "   messages_included  mb_per_month_included  minutes_included  \\\n",
      "0                 50                  15360               500   \n",
      "1               1000                  30720              3000   \n",
      "\n",
      "   usd_monthly_pay  usd_per_gb  usd_per_message  usd_per_minute plan_name  \n",
      "0               20          10             0.03            0.03      surf  \n",
      "1               70           7             0.01            0.01  ultimate  \n"
     ]
    }
   ],
   "source": [
    "# Imprime las condiciones de la tarifa y asegúrate de que te quedan claras\n",
    "\n",
    "print(plans)"
   ]
  },
  {
   "cell_type": "markdown",
   "metadata": {
    "id": "hMR1tP5d0q1F"
   },
   "source": [
    "## Agregar datos por usuario\n",
    "\n",
    "[Ahora que los datos están limpios, agrega los datos por usuario y por periodo para que solo haya un registro por usuario y por periodo. Esto facilitará mucho el análisis posterior.]"
   ]
  },
  {
   "cell_type": "code",
   "execution_count": 24,
   "metadata": {
    "id": "A332cedB0q1G"
   },
   "outputs": [
    {
     "name": "stdout",
     "output_type": "stream",
     "text": [
      "   user_id  month  num_calls\n",
      "0     1000     12         16\n",
      "1     1001      8         27\n",
      "2     1001      9         49\n",
      "3     1001     10         65\n",
      "4     1001     11         64\n"
     ]
    }
   ],
   "source": [
    "# Calcula el número de llamadas hechas por cada usuario al mes. Guarda el resultado.\n",
    "calls_per_user_month = calls.groupby(['user_id', 'month']).size().reset_index(name='num_calls')\n",
    "\n",
    "# Verificar el resultado\n",
    "print(calls_per_user_month.head())"
   ]
  },
  {
   "cell_type": "code",
   "execution_count": 25,
   "metadata": {
    "id": "aw2cmuql0q1G"
   },
   "outputs": [
    {
     "name": "stdout",
     "output_type": "stream",
     "text": [
      "   user_id  month  total_minutes\n",
      "0     1000     12            124\n",
      "1     1001      8            182\n",
      "2     1001      9            315\n",
      "3     1001     10            393\n",
      "4     1001     11            426\n"
     ]
    }
   ],
   "source": [
    "# Calcula la cantidad de minutos usados por cada usuario al mes. Guarda el resultado.\n",
    "minutes_per_user_month = calls.groupby(['user_id', 'month'])['duration'].sum().reset_index(name='total_minutes')\n",
    "\n",
    "# Verificar el resultado\n",
    "print(minutes_per_user_month.head())"
   ]
  },
  {
   "cell_type": "code",
   "execution_count": 26,
   "metadata": {
    "id": "CcQvNHn60q1G"
   },
   "outputs": [
    {
     "name": "stdout",
     "output_type": "stream",
     "text": [
      "   user_id  month  num_messages\n",
      "0     1000     12            11\n",
      "1     1001      8            30\n",
      "2     1001      9            44\n",
      "3     1001     10            53\n",
      "4     1001     11            36\n"
     ]
    }
   ],
   "source": [
    "# Calcula el número de mensajes enviados por cada usuario al mes. Guarda el resultado.\n",
    "messages_per_user_month = messages.groupby(['user_id', 'month']).size().reset_index(name='num_messages')\n",
    "\n",
    "# Verificar el resultado\n",
    "print(messages_per_user_month.head())"
   ]
  },
  {
   "cell_type": "code",
   "execution_count": 27,
   "metadata": {
    "id": "H1AqN2eG0q1H"
   },
   "outputs": [
    {
     "name": "stdout",
     "output_type": "stream",
     "text": [
      "   user_id  month  total_mb_used  total_gb_used\n",
      "0     1000     12        1901.47              2\n",
      "1     1001      8        6919.15              7\n",
      "2     1001      9       13314.82             14\n",
      "3     1001     10       22330.49             22\n",
      "4     1001     11       18504.30             19\n",
      "<class 'pandas.core.frame.DataFrame'>\n",
      "RangeIndex: 2277 entries, 0 to 2276\n",
      "Data columns (total 4 columns):\n",
      " #   Column         Non-Null Count  Dtype  \n",
      "---  ------         --------------  -----  \n",
      " 0   user_id        2277 non-null   int64  \n",
      " 1   month          2277 non-null   int64  \n",
      " 2   total_mb_used  2277 non-null   float64\n",
      " 3   total_gb_used  2277 non-null   int64  \n",
      "dtypes: float64(1), int64(3)\n",
      "memory usage: 71.3 KB\n",
      "None\n"
     ]
    }
   ],
   "source": [
    "# Calcula el volumen del tráfico de Internet usado por cada usuario al mes. Guarda el resultado.\n",
    "# Agrupar los datos por usuario y mes y sumar el total de megabytes usados\n",
    "internet_per_user_month = internet.groupby(['user_id', 'month'])['mb_used'].sum().reset_index(name='total_mb_used')\n",
    "# Transformar los megabytes a gigabytes\n",
    "internet_per_user_month['total_gb_used'] = internet_per_user_month['total_mb_used'] / 1024\n",
    "# Aproximar los gigabytes al entero superior\n",
    "internet_per_user_month['total_gb_used'] = np.ceil(internet_per_user_month['total_gb_used']).astype(int)\n",
    "# Verificar el resultado\n",
    "print(internet_per_user_month.head())\n",
    "print(internet_per_user_month.info())"
   ]
  },
  {
   "cell_type": "code",
   "execution_count": 28,
   "metadata": {
    "id": "FW99ykyf0q1H"
   },
   "outputs": [
    {
     "name": "stdout",
     "output_type": "stream",
     "text": [
      "<class 'pandas.core.frame.DataFrame'>\n",
      "Int64Index: 2293 entries, 0 to 2292\n",
      "Data columns (total 7 columns):\n",
      " #   Column         Non-Null Count  Dtype  \n",
      "---  ------         --------------  -----  \n",
      " 0   user_id        2293 non-null   int64  \n",
      " 1   month          2293 non-null   int64  \n",
      " 2   num_calls      2258 non-null   float64\n",
      " 3   total_minutes  2258 non-null   float64\n",
      " 4   num_messages   1806 non-null   float64\n",
      " 5   total_mb_used  2277 non-null   float64\n",
      " 6   total_gb_used  2277 non-null   float64\n",
      "dtypes: float64(5), int64(2)\n",
      "memory usage: 143.3 KB\n",
      "None\n",
      "   user_id  month  num_calls  total_minutes  num_messages  total_mb_used  \\\n",
      "0     1000     12       16.0          124.0          11.0        1901.47   \n",
      "1     1001      8       27.0          182.0          30.0        6919.15   \n",
      "2     1001      9       49.0          315.0          44.0       13314.82   \n",
      "3     1001     10       65.0          393.0          53.0       22330.49   \n",
      "4     1001     11       64.0          426.0          36.0       18504.30   \n",
      "\n",
      "   total_gb_used  \n",
      "0            2.0  \n",
      "1            7.0  \n",
      "2           14.0  \n",
      "3           22.0  \n",
      "4           19.0  \n"
     ]
    }
   ],
   "source": [
    "# Fusiona los datos de llamadas, minutos, mensajes e Internet con base en user_id y month\n",
    "calls_minutes = pd.merge(calls_per_user_month, minutes_per_user_month, on=['user_id', 'month'], how='outer')\n",
    "\n",
    "# Fusionar los datos anteriores con los datos de mensajes\n",
    "calls_minutes_messages = pd.merge(calls_minutes, messages_per_user_month, on=['user_id', 'month'], how='outer')\n",
    "\n",
    "# Fusionar los datos anteriores con los datos de Internet\n",
    "final_data = pd.merge(calls_minutes_messages, internet_per_user_month, on=['user_id', 'month'], how='outer')\n",
    "\n",
    "# Verificar el resultado\n",
    "print(final_data.info())\n",
    "print(final_data.head())"
   ]
  },
  {
   "cell_type": "code",
   "execution_count": 29,
   "metadata": {
    "id": "0dNOXHag0q1H"
   },
   "outputs": [
    {
     "name": "stdout",
     "output_type": "stream",
     "text": [
      "<class 'pandas.core.frame.DataFrame'>\n",
      "Int64Index: 2293 entries, 0 to 2292\n",
      "Data columns (total 17 columns):\n",
      " #   Column                 Non-Null Count  Dtype  \n",
      "---  ------                 --------------  -----  \n",
      " 0   user_id                2293 non-null   int64  \n",
      " 1   month                  2293 non-null   int64  \n",
      " 2   num_calls              2258 non-null   float64\n",
      " 3   total_minutes          2258 non-null   float64\n",
      " 4   num_messages           1806 non-null   float64\n",
      " 5   total_mb_used          2277 non-null   float64\n",
      " 6   total_gb_used          2277 non-null   float64\n",
      " 7   plan                   2293 non-null   object \n",
      " 8   city                   2293 non-null   object \n",
      " 9   messages_included      2293 non-null   int64  \n",
      " 10  mb_per_month_included  2293 non-null   int64  \n",
      " 11  minutes_included       2293 non-null   int64  \n",
      " 12  usd_monthly_pay        2293 non-null   int64  \n",
      " 13  usd_per_gb             2293 non-null   int64  \n",
      " 14  usd_per_message        2293 non-null   float64\n",
      " 15  usd_per_minute         2293 non-null   float64\n",
      " 16  plan_name              2293 non-null   object \n",
      "dtypes: float64(7), int64(7), object(3)\n",
      "memory usage: 322.5+ KB\n",
      "None\n",
      "   user_id  month  num_calls  total_minutes  num_messages  total_mb_used  \\\n",
      "0     1000     12       16.0          124.0          11.0        1901.47   \n",
      "1     1001      8       27.0          182.0          30.0        6919.15   \n",
      "2     1001      9       49.0          315.0          44.0       13314.82   \n",
      "3     1001     10       65.0          393.0          53.0       22330.49   \n",
      "4     1001     11       64.0          426.0          36.0       18504.30   \n",
      "\n",
      "   total_gb_used      plan                                   city  \\\n",
      "0            2.0  ultimate  Atlanta-Sandy Springs-Roswell, GA MSA   \n",
      "1            7.0      surf        Seattle-Tacoma-Bellevue, WA MSA   \n",
      "2           14.0      surf        Seattle-Tacoma-Bellevue, WA MSA   \n",
      "3           22.0      surf        Seattle-Tacoma-Bellevue, WA MSA   \n",
      "4           19.0      surf        Seattle-Tacoma-Bellevue, WA MSA   \n",
      "\n",
      "   messages_included  mb_per_month_included  minutes_included  \\\n",
      "0               1000                  30720              3000   \n",
      "1                 50                  15360               500   \n",
      "2                 50                  15360               500   \n",
      "3                 50                  15360               500   \n",
      "4                 50                  15360               500   \n",
      "\n",
      "   usd_monthly_pay  usd_per_gb  usd_per_message  usd_per_minute plan_name  \n",
      "0               70           7             0.01            0.01  ultimate  \n",
      "1               20          10             0.03            0.03      surf  \n",
      "2               20          10             0.03            0.03      surf  \n",
      "3               20          10             0.03            0.03      surf  \n",
      "4               20          10             0.03            0.03      surf  \n"
     ]
    }
   ],
   "source": [
    "# Añade la información de la tarifa\n",
    "# Fusionar el DataFrame 'final_data' con el DataFrame 'user' para añadir las columnas 'plan' y 'city'\n",
    "final_data_with_plan_city = pd.merge(final_data, user[['user_id', 'plan', 'city']], on='user_id', how='left')\n",
    "\n",
    "# Fusionar el DataFrame 'final_data_with_plan_city' con el DataFrame 'plans' para añadir los detalles de la tarifa\n",
    "final_data_complete = pd.merge(final_data_with_plan_city, plans, left_on='plan', right_on='plan_name', how='left')\n",
    "\n",
    "# Verificar el resultado\n",
    "print(final_data_complete.info())\n",
    "print(final_data_complete.head())"
   ]
  },
  {
   "cell_type": "markdown",
   "metadata": {
    "id": "1IwGo4wg0q1I"
   },
   "source": [
    "[Calcula los ingresos mensuales por usuario (resta el límite del paquete gratuito del número total de llamadas, mensajes de texto y datos; multiplica el resultado por el valor del plan de llamadas; añade la tarifa mensual en función del plan de llamadas). Nota: Dadas las condiciones del plan, ¡esto podría no ser tan trivial como un par de líneas! Así que no pasa nada si dedicas algo de tiempo a ello.]"
   ]
  },
  {
   "cell_type": "code",
   "execution_count": 30,
   "metadata": {
    "id": "5FGCf_c60q1I"
   },
   "outputs": [
    {
     "name": "stdout",
     "output_type": "stream",
     "text": [
      "   user_id  month  total_income\n",
      "0     1000     12     70.000000\n",
      "1     1001      8     20.000000\n",
      "2     1001      9     20.000000\n",
      "3     1001     10     88.161191\n",
      "4     1001     11     50.706055\n"
     ]
    }
   ],
   "source": [
    "# Calcula el ingreso mensual para cada usuario\n",
    "# Asegurarse de que los datos necesarios están presentes en 'final_data_complete'\n",
    "# Calcular los excesos de uso\n",
    "final_data_complete['excess_minutes'] = final_data_complete['total_minutes'] - final_data_complete['minutes_included']\n",
    "final_data_complete['excess_messages'] = final_data_complete['num_messages'] - final_data_complete['messages_included']\n",
    "final_data_complete['excess_mb'] = final_data_complete['total_mb_used'] - final_data_complete['mb_per_month_included']\n",
    "\n",
    "# Convertir el exceso de datos a GB (1 GB = 1024 MB)\n",
    "final_data_complete['excess_gb'] = final_data_complete['excess_mb'] / 1024\n",
    "\n",
    "# Reemplazar valores negativos por 0 (no hay cargos adicionales si no hay exceso)\n",
    "final_data_complete['excess_minutes'] = final_data_complete['excess_minutes'].apply(lambda x: max(x, 0))\n",
    "final_data_complete['excess_messages'] = final_data_complete['excess_messages'].apply(lambda x: max(x, 0))\n",
    "final_data_complete['excess_gb'] = final_data_complete['excess_gb'].apply(lambda x: max(x, 0))\n",
    "\n",
    "# Calcular los cargos por excesos\n",
    "final_data_complete['charges_minutes'] = final_data_complete['excess_minutes'] * final_data_complete['usd_per_minute']\n",
    "final_data_complete['charges_messages'] = final_data_complete['excess_messages'] * final_data_complete['usd_per_message']\n",
    "final_data_complete['charges_gb'] = final_data_complete['excess_gb'] * final_data_complete['usd_per_gb']\n",
    "\n",
    "# Calcular el ingreso total\n",
    "final_data_complete['total_income'] = final_data_complete['usd_monthly_pay'] + final_data_complete['charges_minutes'] + final_data_complete['charges_messages'] + final_data_complete['charges_gb']\n",
    "\n",
    "# Verificar el resultado\n",
    "print(final_data_complete[['user_id', 'month', 'total_income']].head())"
   ]
  },
  {
   "cell_type": "markdown",
   "metadata": {
    "id": "-jtyHzJb0q1I"
   },
   "source": [
    "## Estudia el comportamiento de usuario"
   ]
  },
  {
   "cell_type": "markdown",
   "metadata": {
    "id": "AxU3Y0N70q1J"
   },
   "source": [
    "[Calcula algunas estadísticas descriptivas para los datos agregados y fusionados que nos sean útiles y que muestren un panorama general captado por los datos. Dibuja gráficos útiles para facilitar la comprensión. Dado que la tarea principal es comparar las tarifas y decidir cuál es más rentable, las estadísticas y gráficas deben calcularse por tarifa.]\n",
    "\n",
    "[En los comentarios hallarás pistas relevantes para las llamadas, pero no las hay para los mensajes e Internet. Sin embargo, el principio del estudio estadístico que se aplica para ellos es el mismo que para las llamadas.]"
   ]
  },
  {
   "cell_type": "markdown",
   "metadata": {
    "id": "vtW4CJEe0q1J"
   },
   "source": [
    "### Llamadas"
   ]
  },
  {
   "cell_type": "code",
   "execution_count": 31,
   "metadata": {
    "id": "Jf5v5--k0q1J"
   },
   "outputs": [
    {
     "name": "stdout",
     "output_type": "stream",
     "text": [
      "   plan  month  avg_duration\n",
      "0  surf      1        203.00\n",
      "1  surf      2        297.00\n",
      "2  surf      3        330.00\n",
      "3  surf      4        351.54\n",
      "4  surf      5        410.24\n"
     ]
    },
    {
     "data": {
      "image/png": "[encoded data removed]",
      "text/plain": [
       "<Figure size 1200x600 with 1 Axes>"
      ]
     },
     "metadata": {},
     "output_type": "display_data"
    }
   ],
   "source": [
    "# Compara la duración promedio de llamadas por cada plan y por cada mes. Traza un gráfico de barras para visualizarla.\n",
    "# Agrupar los datos por plan y por mes y calcular la duración promedio de llamadas\n",
    "avg_call_duration = final_data_complete.groupby(['plan', 'month'])['total_minutes'].mean().reset_index(name='avg_duration')\n",
    "\n",
    "# Verificar el resultado\n",
    "print(avg_call_duration.head())\n",
    "\n",
    "# Crear un gráfico de barras para visualizar la duración promedio de llamadas por plan y por mes\n",
    "plt.figure(figsize=(12, 6))\n",
    "\n",
    "# Agrupar los datos por plan para trazar barras separadas para cada plan\n",
    "plans = avg_call_duration['plan'].unique()\n",
    "for plan in plans:\n",
    "    plan_data = avg_call_duration[avg_call_duration['plan'] == plan]\n",
    "    plt.bar(plan_data['month'], plan_data['avg_duration'], label=plan)\n",
    "\n",
    "# Usar Seaborn para crear un gráfico de barras\n",
    "sns.barplot(x='month', y='avg_duration', hue='plan', data=avg_call_duration, alpha=0.5)\n",
    "\n",
    "# Añadir títulos y etiquetas\n",
    "plt.title('Duración Promedio de Llamadas por Plan y por Mes')\n",
    "plt.xlabel('Mes')\n",
    "plt.ylabel('Duración Promedio de Llamadas (minutos)')\n",
    "plt.legend(title='Plan')\n",
    "plt.xticks(range(1, 13))  # Asegurarse de que todos los meses están representados\n",
    "\n",
    "# Mostrar el gráfico\n",
    "plt.show()"
   ]
  },
  {
   "cell_type": "code",
   "execution_count": 32,
   "metadata": {
    "id": "QoLqW1S_0q1J"
   },
   "outputs": [
    {
     "name": "stdout",
     "output_type": "stream",
     "text": [
      "   user_id  month  num_calls  total_minutes  num_messages  total_mb_used  \\\n",
      "0     1000     12       16.0          124.0          11.0        1901.47   \n",
      "1     1001      8       27.0          182.0          30.0        6919.15   \n",
      "2     1001      9       49.0          315.0          44.0       13314.82   \n",
      "3     1001     10       65.0          393.0          53.0       22330.49   \n",
      "4     1001     11       64.0          426.0          36.0       18504.30   \n",
      "\n",
      "   total_gb_used      plan                                   city  \\\n",
      "0            2.0  ultimate  Atlanta-Sandy Springs-Roswell, GA MSA   \n",
      "1            7.0      surf        Seattle-Tacoma-Bellevue, WA MSA   \n",
      "2           14.0      surf        Seattle-Tacoma-Bellevue, WA MSA   \n",
      "3           22.0      surf        Seattle-Tacoma-Bellevue, WA MSA   \n",
      "4           19.0      surf        Seattle-Tacoma-Bellevue, WA MSA   \n",
      "\n",
      "   messages_included  ...  usd_per_minute  plan_name  excess_minutes  \\\n",
      "0               1000  ...            0.01   ultimate             0.0   \n",
      "1                 50  ...            0.03       surf             0.0   \n",
      "2                 50  ...            0.03       surf             0.0   \n",
      "3                 50  ...            0.03       surf             0.0   \n",
      "4                 50  ...            0.03       surf             0.0   \n",
      "\n",
      "   excess_messages  excess_mb  excess_gb charges_minutes  charges_messages  \\\n",
      "0              0.0  -28818.53   0.000000             0.0              0.00   \n",
      "1              0.0   -8440.85   0.000000             0.0              0.00   \n",
      "2              0.0   -2045.18   0.000000             0.0              0.00   \n",
      "3              3.0    6970.49   6.807119             0.0              0.09   \n",
      "4              0.0    3144.30   3.070605             0.0              0.00   \n",
      "\n",
      "   charges_gb  total_income  \n",
      "0    0.000000     70.000000  \n",
      "1    0.000000     20.000000  \n",
      "2    0.000000     20.000000  \n",
      "3   68.071191     88.161191  \n",
      "4   30.706055     50.706055  \n",
      "\n",
      "[5 rows x 25 columns]\n"
     ]
    },
    {
     "data": {
      "image/png": "[encoded data removed]",
      "text/plain": [
       "<Figure size 1200x600 with 1 Axes>"
      ]
     },
     "metadata": {},
     "output_type": "display_data"
    }
   ],
   "source": [
    "# Compara el número de minutos mensuales que necesitan los usuarios de cada plan. Traza un histograma.\n",
    "# Verificar las primeras filas del DataFrame\n",
    "print(final_data_complete.head())\n",
    "\n",
    "# Crear un gráfico de histograma para visualizar el número de minutos mensuales usados por los usuarios de cada plan\n",
    "plt.figure(figsize=(12, 6))\n",
    "\n",
    "# Filtrar los datos por cada plan\n",
    "plans = final_data_complete['plan'].unique()\n",
    "for plan in plans:\n",
    "    plan_data = final_data_complete[final_data_complete['plan'] == plan]\n",
    "    plt.hist(plan_data['total_minutes'], bins=30, alpha=0.5, label=plan)\n",
    "\n",
    "# Añadir títulos y etiquetas\n",
    "plt.title('Número de Minutos Mensuales Usados por Plan')\n",
    "plt.xlabel('Número de Minutos')\n",
    "plt.ylabel('Frecuencia')\n",
    "plt.legend(title='Plan')\n",
    "\n",
    "# Mostrar el gráfico\n",
    "plt.show()"
   ]
  },
  {
   "cell_type": "markdown",
   "metadata": {
    "id": "bLS9T8OH0q1K"
   },
   "source": [
    "[Calcula la media y la variable de la duración de las llamadas para averiguar si los usuarios de los distintos planes se comportan de forma diferente al realizar sus llamadas.]"
   ]
  },
  {
   "cell_type": "code",
   "execution_count": 33,
   "metadata": {
    "id": "oSndbAnt0q1K"
   },
   "outputs": [
    {
     "name": "stdout",
     "output_type": "stream",
     "text": [
      "   plan  month  mean_duration  variance_duration\n",
      "0  surf      1         203.00       15842.000000\n",
      "1  surf      2         297.00       52226.500000\n",
      "2  surf      3         330.00       35809.363636\n",
      "3  surf      4         351.54       50866.743265\n",
      "4  surf      5         410.24       56938.779459\n"
     ]
    }
   ],
   "source": [
    "# Calcula la media y la varianza de la duración mensual de llamadas.\n",
    "# Agrupar los datos por plan y por mes y calcular la duración promedio de llamadas\n",
    "grouped_data = final_data_complete.groupby(['plan', 'month'])['total_minutes']\n",
    "\n",
    "# Calcular la media y la varianza de la duración mensual de llamadas por plan\n",
    "mean_duration = grouped_data.mean().reset_index(name='mean_duration')\n",
    "variance_duration = grouped_data.var().reset_index(name='variance_duration')\n",
    "\n",
    "# Fusionar las medias y varianzas en un solo DataFrame\n",
    "stats_duration = pd.merge(mean_duration, variance_duration, on=['plan', 'month'])\n",
    "\n",
    "# Verificar el resultado\n",
    "print(stats_duration.head())"
   ]
  },
  {
   "cell_type": "code",
   "execution_count": 34,
   "metadata": {
    "id": "nZzoRUKc0q1K"
   },
   "outputs": [
    {
     "name": "stdout",
     "output_type": "stream",
     "text": [
      "   user_id  month  num_calls  total_minutes  num_messages  total_mb_used  \\\n",
      "0     1000     12       16.0          124.0          11.0        1901.47   \n",
      "1     1001      8       27.0          182.0          30.0        6919.15   \n",
      "2     1001      9       49.0          315.0          44.0       13314.82   \n",
      "3     1001     10       65.0          393.0          53.0       22330.49   \n",
      "4     1001     11       64.0          426.0          36.0       18504.30   \n",
      "\n",
      "   total_gb_used      plan                                   city  \\\n",
      "0            2.0  ultimate  Atlanta-Sandy Springs-Roswell, GA MSA   \n",
      "1            7.0      surf        Seattle-Tacoma-Bellevue, WA MSA   \n",
      "2           14.0      surf        Seattle-Tacoma-Bellevue, WA MSA   \n",
      "3           22.0      surf        Seattle-Tacoma-Bellevue, WA MSA   \n",
      "4           19.0      surf        Seattle-Tacoma-Bellevue, WA MSA   \n",
      "\n",
      "   messages_included  ...  usd_per_minute  plan_name  excess_minutes  \\\n",
      "0               1000  ...            0.01   ultimate             0.0   \n",
      "1                 50  ...            0.03       surf             0.0   \n",
      "2                 50  ...            0.03       surf             0.0   \n",
      "3                 50  ...            0.03       surf             0.0   \n",
      "4                 50  ...            0.03       surf             0.0   \n",
      "\n",
      "   excess_messages  excess_mb  excess_gb charges_minutes  charges_messages  \\\n",
      "0              0.0  -28818.53   0.000000             0.0              0.00   \n",
      "1              0.0   -8440.85   0.000000             0.0              0.00   \n",
      "2              0.0   -2045.18   0.000000             0.0              0.00   \n",
      "3              3.0    6970.49   6.807119             0.0              0.09   \n",
      "4              0.0    3144.30   3.070605             0.0              0.00   \n",
      "\n",
      "   charges_gb  total_income  \n",
      "0    0.000000     70.000000  \n",
      "1    0.000000     20.000000  \n",
      "2    0.000000     20.000000  \n",
      "3   68.071191     88.161191  \n",
      "4   30.706055     50.706055  \n",
      "\n",
      "[5 rows x 25 columns]\n"
     ]
    },
    {
     "data": {
      "image/png": "[encoded data removed]",
      "text/plain": [
       "<Figure size 1200x600 with 1 Axes>"
      ]
     },
     "metadata": {},
     "output_type": "display_data"
    }
   ],
   "source": [
    "# Traza un diagrama de caja para visualizar la distribución de la duración mensual de llamadas\n",
    "# Verificar las primeras filas del DataFrame\n",
    "print(final_data_complete.head())\n",
    "\n",
    "# Crear un diagrama de caja para visualizar la distribución de la duración mensual de llamadas por plan\n",
    "plt.figure(figsize=(12, 6))\n",
    "\n",
    "sns.boxplot(x='plan', y='total_minutes', data=final_data_complete)\n",
    "\n",
    "# Añadir títulos y etiquetas\n",
    "plt.title('Distribución de la Duración Mensual de Llamadas por Plan')\n",
    "plt.xlabel('Plan')\n",
    "plt.ylabel('Duración Mensual de Llamadas (minutos)')\n",
    "\n",
    "# Mostrar el gráfico\n",
    "plt.show()"
   ]
  },
  {
   "cell_type": "markdown",
   "metadata": {
    "id": "r627zBO50q1K"
   },
   "source": [
    "El comportamiento de los usuarios varía significativamente según el plan de llamadas. Los usuarios del plan Ultimate tienden a usar más minutos mensuales y muestran mayor variabilidad en su uso, incentivados por límites más altos y tarifas adicionales más bajas. En contraste, los usuarios del plan Surf tienen un uso más moderado y consistente, reflejando los límites más bajos y tarifas adicionales más altas de su plan. En general, los usuarios adaptan su comportamiento de llamadas en función de los beneficios y costos de su plan de suscripción."
   ]
  },
  {
   "cell_type": "markdown",
   "metadata": {
    "id": "8idKy8Wh0q1L"
   },
   "source": [
    "### Mensajes"
   ]
  },
  {
   "cell_type": "code",
   "execution_count": 35,
   "metadata": {
    "id": "NXLxiTit0q1L"
   },
   "outputs": [
    {
     "data": {
      "image/png": "[encoded data removed]",
      "text/plain": [
       "<Figure size 1200x600 with 1 Axes>"
      ]
     },
     "metadata": {},
     "output_type": "display_data"
    }
   ],
   "source": [
    "# Comprara el número de mensajes que tienden a enviar cada mes los usuarios de cada plan\n",
    "# Agrupar los datos por plan y por mes y calcular el número promedio de mensajes\n",
    "avg_messages = final_data_complete.groupby(['plan', 'month'])['num_messages'].mean().reset_index(name='avg_messages')\n",
    "\n",
    "# Crear un gráfico de barras para visualizar el número promedio de mensajes por plan y por mes\n",
    "plt.figure(figsize=(12, 6))\n",
    "\n",
    "# Agrupar los datos por plan para trazar barras separadas para cada plan\n",
    "plans = avg_messages['plan'].unique()\n",
    "for plan in plans:\n",
    "    plan_data = avg_messages[avg_messages['plan'] == plan]\n",
    "    plt.bar(plan_data['month'], plan_data['avg_messages'], label=plan)\n",
    "\n",
    "# Usar Seaborn para crear un gráfico de barras con transparencia\n",
    "sns.barplot(x='month', y='avg_messages', hue='plan', data=avg_messages, alpha=0.5)\n",
    "\n",
    "# Añadir títulos y etiquetas\n",
    "plt.title('Número Promedio de Mensajes Enviados por Plan y por Mes')\n",
    "plt.xlabel('Mes')\n",
    "plt.ylabel('Número Promedio de Mensajes')\n",
    "plt.legend(title='Plan')\n",
    "plt.xticks(range(1, 13))  # Asegurarse de que todos los meses están representados\n",
    "\n",
    "# Mostrar el gráfico\n",
    "plt.show()"
   ]
  },
  {
   "cell_type": "code",
   "execution_count": 36,
   "metadata": {
    "id": "GRI_R7xF0q1L"
   },
   "outputs": [
    {
     "data": {
      "image/png": "[encoded data removed]",
      "text/plain": [
       "<Figure size 1200x600 with 1 Axes>"
      ]
     },
     "metadata": {},
     "output_type": "display_data"
    }
   ],
   "source": [
    "# Compara la cantidad de tráfico de Internet consumido por usuarios por plan\n",
    "# Agrupar los datos por plan y por mes y calcular el volumen promedio de tráfico de Internet\n",
    "avg_internet = final_data_complete.groupby(['plan', 'month'])['total_mb_used'].mean().reset_index(name='avg_mb_used')\n",
    "\n",
    "# Crear un gráfico de barras para visualizar el volumen promedio de tráfico de Internet por plan y por mes\n",
    "plt.figure(figsize=(12, 6))\n",
    "\n",
    "# Usar Seaborn para crear un gráfico de barras con transparencia\n",
    "sns.barplot(x='month', y='avg_mb_used', hue='plan', data=avg_internet, alpha=0.5)\n",
    "\n",
    "# Agrupar los datos por plan para trazar barras separadas para cada plan\n",
    "plans = avg_internet['plan'].unique()\n",
    "for plan in plans:\n",
    "    plan_data = avg_internet[avg_internet['plan'] == plan]\n",
    "    plt.bar(plan_data['month'], plan_data['avg_mb_used'], label=plan)\n",
    "\n",
    "# Añadir títulos y etiquetas\n",
    "plt.title('Volumen Promedio de Tráfico de Internet por Plan y por Mes')\n",
    "plt.xlabel('Mes')\n",
    "plt.ylabel('Volumen Promedio de Tráfico de Internet (MB)')\n",
    "plt.legend(title='Plan')\n",
    "plt.xticks(range(1, 13))  # Asegurarse de que todos los meses están representados\n",
    "\n",
    "# Mostrar el gráfico\n",
    "plt.show()"
   ]
  },
  {
   "cell_type": "code",
   "execution_count": 37,
   "metadata": {
    "id": "dtFwCGAp0q1M"
   },
   "outputs": [
    {
     "name": "stdout",
     "output_type": "stream",
     "text": [
      "   plan  month  mean_messages  variance_messages\n",
      "0  surf      1      21.000000                NaN\n",
      "1  surf      2      21.600000         512.800000\n",
      "2  surf      3      21.937500         352.062500\n",
      "3  surf      4      24.166667         534.028571\n",
      "4  surf      5      33.017857         867.945130\n",
      "       plan  mean_messages  variance_messages\n",
      "0      surf      40.109656        1091.344231\n",
      "1  ultimate      46.296233        1085.183108\n"
     ]
    }
   ],
   "source": [
    "# Calcular la media y la varianza del número de mensajes enviados por cada usuario por plan y por mes\n",
    "mean_messages = final_data_complete.groupby(['plan', 'month'])['num_messages'].mean().reset_index(name='mean_messages')\n",
    "variance_messages = final_data_complete.groupby(['plan', 'month'])['num_messages'].var().reset_index(name='variance_messages')\n",
    "\n",
    "# Fusionar las medias y varianzas en un solo DataFrame\n",
    "stats_messages = pd.merge(mean_messages, variance_messages, on=['plan', 'month'])\n",
    "\n",
    "# Verificar el resultado\n",
    "print(stats_messages.head())\n",
    "\n",
    "# Calcular la media y la varianza general del número de mensajes enviados por plan\n",
    "mean_messages_overall = final_data_complete.groupby('plan')['num_messages'].mean().reset_index(name='mean_messages')\n",
    "variance_messages_overall = final_data_complete.groupby('plan')['num_messages'].var().reset_index(name='variance_messages')\n",
    "\n",
    "# Fusionar las medias y varianzas generales en un solo DataFrame\n",
    "stats_messages_overall = pd.merge(mean_messages_overall, variance_messages_overall, on='plan')\n",
    "\n",
    "# Verificar el resultado\n",
    "print(stats_messages_overall)"
   ]
  },
  {
   "cell_type": "code",
   "execution_count": 38,
   "metadata": {},
   "outputs": [
    {
     "data": {
      "image/png": "[encoded data removed]",
      "text/plain": [
       "<Figure size 1200x600 with 1 Axes>"
      ]
     },
     "metadata": {},
     "output_type": "display_data"
    }
   ],
   "source": [
    "# Crear un diagrama de caja para visualizar la distribución del número de mensajes enviados por plan\n",
    "plt.figure(figsize=(12, 6))\n",
    "\n",
    "sns.boxplot(x='plan', y='num_messages', data=final_data_complete)\n",
    "\n",
    "# Añadir títulos y etiquetas\n",
    "plt.title('Distribución del Número de Mensajes Enviados por Plan')\n",
    "plt.xlabel('Plan')\n",
    "plt.ylabel('Número de Mensajes Enviados')\n",
    "\n",
    "# Mostrar el gráfico\n",
    "plt.show()"
   ]
  },
  {
   "cell_type": "markdown",
   "metadata": {
    "id": "390SSL480q1M"
   },
   "source": [
    "Los usuarios del plan Ultimate envían significativamente más mensajes mensuales que los del plan Surf, debido a que Ultimate incluye más mensajes y tiene tarifas adicionales más bajas. La media y la varianza del número de mensajes enviados son mayores para Ultimate, indicando mayor uso y variabilidad. Los diagramas de caja muestran una distribución más amplia y más valores atípicos para Ultimate. En resumen, el comportamiento de envío de mensajes varía según el plan, con los usuarios de Ultimate mostrando un uso más intensivo y diverso."
   ]
  },
  {
   "cell_type": "markdown",
   "metadata": {
    "id": "42YSypXz0q1M"
   },
   "source": [
    "### Internet"
   ]
  },
  {
   "cell_type": "code",
   "execution_count": 39,
   "metadata": {
    "id": "lSuKPtjh0q1M"
   },
   "outputs": [
    {
     "name": "stdout",
     "output_type": "stream",
     "text": [
      "   month  total_mb_used\n",
      "0      1       37422.09\n",
      "1      2      229511.25\n",
      "2      3      526803.34\n",
      "3      4      937764.90\n",
      "4      5     1555209.32\n"
     ]
    },
    {
     "data": {
      "image/png": "[encoded data removed]",
      "text/plain": [
       "<Figure size 1200x600 with 1 Axes>"
      ]
     },
     "metadata": {},
     "output_type": "display_data"
    }
   ],
   "source": [
    "# Compara volumen de datos gastados por cada mes. Traza un gráfico de barras para visualizarla.\n",
    "# Agrupar los datos por mes y calcular el volumen total de datos gastados\n",
    "total_data_per_month = final_data_complete.groupby('month')['total_mb_used'].sum().reset_index(name='total_mb_used')\n",
    "\n",
    "# Verificar el resultado\n",
    "print(total_data_per_month.head())\n",
    "\n",
    "# Crear un gráfico de barras para visualizar el volumen de datos gastados por mes\n",
    "plt.figure(figsize=(12, 6))\n",
    "\n",
    "plt.bar(total_data_per_month['month'], total_data_per_month['total_mb_used'], color='skyblue')\n",
    "\n",
    "# Añadir títulos y etiquetas\n",
    "plt.title('Volumen Total de Datos Gastados por Mes')\n",
    "plt.xlabel('Mes')\n",
    "plt.ylabel('Volumen Total de Datos (MB)')\n",
    "plt.xticks(range(1, 13))  # Asegurarse de que todos los meses están representados\n",
    "\n",
    "# Mostrar el gráfico\n",
    "plt.show()"
   ]
  },
  {
   "cell_type": "code",
   "execution_count": 40,
   "metadata": {
    "id": "wnh8jYXi0q1N"
   },
   "outputs": [
    {
     "name": "stdout",
     "output_type": "stream",
     "text": [
      "   plan  month  mean_mb_used  variance_mb_used\n",
      "0  surf      1   4874.860000      1.823995e+07\n",
      "1  surf      2  12178.843333      4.367296e+07\n",
      "2  surf      3  13345.440000      6.824556e+07\n",
      "3  surf      4  12228.778571      5.722187e+07\n",
      "4  surf      5  14119.728026      5.967252e+07\n",
      "       plan  mean_mb_used  variance_mb_used\n",
      "0      surf  16717.702137      6.216823e+07\n",
      "1  ultimate  17238.642253      6.132485e+07\n"
     ]
    }
   ],
   "source": [
    "# Calcular la media y la varianza del volumen de tráfico de Internet por cada usuario por plan y por mes\n",
    "mean_internet = final_data_complete.groupby(['plan', 'month'])['total_mb_used'].mean().reset_index(name='mean_mb_used')\n",
    "variance_internet = final_data_complete.groupby(['plan', 'month'])['total_mb_used'].var().reset_index(name='variance_mb_used')\n",
    "\n",
    "# Fusionar las medias y varianzas en un solo DataFrame\n",
    "stats_internet = pd.merge(mean_internet, variance_internet, on=['plan', 'month'])\n",
    "\n",
    "# Verificar el resultado\n",
    "print(stats_internet.head())\n",
    "\n",
    "# Calcular la media y la varianza general del volumen de tráfico de Internet por plan\n",
    "mean_internet_overall = final_data_complete.groupby('plan')['total_mb_used'].mean().reset_index(name='mean_mb_used')\n",
    "variance_internet_overall = final_data_complete.groupby('plan')['total_mb_used'].var().reset_index(name='variance_mb_used')\n",
    "\n",
    "# Fusionar las medias y varianzas generales en un solo DataFrame\n",
    "stats_internet_overall = pd.merge(mean_internet_overall, variance_internet_overall, on='plan')\n",
    "\n",
    "# Verificar el resultado\n",
    "print(stats_internet_overall)"
   ]
  },
  {
   "cell_type": "code",
   "execution_count": 41,
   "metadata": {
    "id": "5VlyJ9ry0q1N"
   },
   "outputs": [
    {
     "data": {
      "image/png": "[encoded data removed]",
      "text/plain": [
       "<Figure size 1200x600 with 1 Axes>"
      ]
     },
     "metadata": {},
     "output_type": "display_data"
    }
   ],
   "source": [
    "# Crear un diagrama de caja para visualizar la distribución del volumen de tráfico de Internet por plan\n",
    "plt.figure(figsize=(12, 6))\n",
    "\n",
    "sns.boxplot(x='plan', y='total_mb_used', data=final_data_complete)\n",
    "\n",
    "# Añadir títulos y etiquetas\n",
    "plt.title('Distribución del Volumen de Tráfico de Internet por Plan')\n",
    "plt.xlabel('Plan')\n",
    "plt.ylabel('Volumen de Tráfico de Internet (MB)')\n",
    "\n",
    "# Mostrar el gráfico\n",
    "plt.show()"
   ]
  },
  {
   "cell_type": "markdown",
   "metadata": {
    "id": "UN9zwuMP0q1N"
   },
   "source": [
    "Los usuarios del plan Ultimate consumen más tráfico de Internet que los del plan Surf, debido a los mayores límites de datos y tarifas adicionales más bajas. La media y la varianza del uso de datos son mayores para Ultimate, indicando mayor consumo y variabilidad. Los diagramas de caja muestran una distribución más amplia y más valores atípicos para Ultimate. En resumen, el consumo de tráfico de Internet varía según el plan, con los usuarios de Ultimate mostrando un uso más intensivo y diverso."
   ]
  },
  {
   "cell_type": "markdown",
   "metadata": {
    "id": "tCijq3260q1N"
   },
   "source": [
    "## Ingreso"
   ]
  },
  {
   "cell_type": "markdown",
   "metadata": {
    "id": "9nq5IAcy0q1O"
   },
   "source": [
    "[Del mismo modo que has estudiado el comportamiento de los usuarios, describe estadísticamente los ingresos de los planes.]"
   ]
  },
  {
   "cell_type": "code",
   "execution_count": 42,
   "metadata": {
    "id": "tz-dq_V00q1O"
   },
   "outputs": [
    {
     "name": "stdout",
     "output_type": "stream",
     "text": [
      "   month  total_income\n",
      "0      1    230.000000\n",
      "1      2    468.936699\n",
      "2      3   1108.758887\n",
      "3      4   2528.257158\n",
      "4      5   4068.903447\n"
     ]
    },
    {
     "data": {
      "image/png": "[encoded data removed]",
      "text/plain": [
       "<Figure size 1200x600 with 1 Axes>"
      ]
     },
     "metadata": {},
     "output_type": "display_data"
    }
   ],
   "source": [
    "# Compara los ingresos por cada mes. Traza un gráfico de barras para visualizarla.\n",
    "# Agrupar los datos por mes y calcular los ingresos totales por mes\n",
    "total_income_per_month = final_data_complete.groupby('month')['total_income'].sum().reset_index(name='total_income')\n",
    "\n",
    "# Verificar el resultado\n",
    "print(total_income_per_month.head())\n",
    "\n",
    "# Crear un gráfico de barras para visualizar los ingresos totales por mes\n",
    "plt.figure(figsize=(12, 6))\n",
    "\n",
    "plt.bar(total_income_per_month['month'], total_income_per_month['total_income'], color='skyblue')\n",
    "\n",
    "# Añadir títulos y etiquetas\n",
    "plt.title('Ingresos Totales por Mes')\n",
    "plt.xlabel('Mes')\n",
    "plt.ylabel('Ingresos Totales (USD)')\n",
    "plt.xticks(range(1, 13))  # Asegurarse de que todos los meses están representados\n",
    "\n",
    "# Mostrar el gráfico\n",
    "plt.show()"
   ]
  },
  {
   "cell_type": "code",
   "execution_count": 43,
   "metadata": {
    "id": "0Y1v8ZUz0q1P"
   },
   "outputs": [
    {
     "name": "stdout",
     "output_type": "stream",
     "text": [
      "       plan  mean_income  variance_income\n",
      "0      surf    57.283579      2702.446694\n",
      "1  ultimate    72.062930       109.884303\n"
     ]
    }
   ],
   "source": [
    "# Calcular la media y la varianza de los ingresos mensuales por plan\n",
    "mean_income = final_data_complete.groupby('plan')['total_income'].mean().reset_index(name='mean_income')\n",
    "variance_income = final_data_complete.groupby('plan')['total_income'].var().reset_index(name='variance_income')\n",
    "\n",
    "# Fusionar las medias y varianzas en un solo DataFrame\n",
    "stats_income = pd.merge(mean_income, variance_income, on='plan')\n",
    "\n",
    "# Verificar el resultado\n",
    "print(stats_income)"
   ]
  },
  {
   "cell_type": "code",
   "execution_count": 44,
   "metadata": {
    "id": "bYmwxyVh0q1P"
   },
   "outputs": [
    {
     "data": {
      "image/png": "[encoded data removed]",
      "text/plain": [
       "<Figure size 1200x600 with 1 Axes>"
      ]
     },
     "metadata": {},
     "output_type": "display_data"
    }
   ],
   "source": [
    "# Crear un diagrama de caja para visualizar la distribución de los ingresos mensuales por plan\n",
    "plt.figure(figsize=(12, 6))\n",
    "\n",
    "sns.boxplot(x='plan', y='total_income', data=final_data_complete)\n",
    "\n",
    "# Añadir títulos y etiquetas\n",
    "plt.title('Distribución de los Ingresos Mensuales por Plan')\n",
    "plt.xlabel('Plan')\n",
    "plt.ylabel('Ingresos Mensuales (USD)')\n",
    "\n",
    "# Mostrar el gráfico\n",
    "plt.show()"
   ]
  },
  {
   "cell_type": "markdown",
   "metadata": {
    "id": "KAFidcXZ0q1P"
   },
   "source": [
    "Los ingresos mensuales del plan Ultimate son significativamente mayores y más variables que los del plan Surf debido a sus mayores límites y tarifas adicionales más bajas. Ultimate incentiva un mayor uso, resultando en mayores ingresos promedio y mayor dispersión. En contraste, Surf tiene ingresos más consistentes y menores. En resumen, Ultimate genera ingresos más altos y variados en comparación con Surf."
   ]
  },
  {
   "cell_type": "markdown",
   "metadata": {
    "id": "ajJ7VKeI0q1Q"
   },
   "source": [
    "## Prueba las hipótesis estadísticas"
   ]
  },
  {
   "cell_type": "markdown",
   "metadata": {
    "id": "AdXAZ-yL0q1Q"
   },
   "source": [
    "[Prueba la hipótesis de que son diferentes los ingresos promedio procedentes de los usuarios de los planes de llamada Ultimate y Surf.]"
   ]
  },
  {
   "cell_type": "markdown",
   "metadata": {
    "id": "IQwa_hsh0q1Q"
   },
   "source": [
    "[Elabora las hipótesis nula y alternativa, escoge la prueba estadística, determina el valor alfa.]"
   ]
  },
  {
   "cell_type": "markdown",
   "metadata": {},
   "source": [
    "Se filtran los datos para obtener los ingresos totales de los usuarios en los planes \"Ultimate\" y \"Surf\". Luego, se realiza una prueba t de Student para comparar los ingresos promedio entre los dos grupos, con un nivel de significancia de 0.05. Las hipótesis son: H₀ (hipótesis nula): no hay diferencia en los ingresos promedio entre los planes \"Ultimate\" y \"Surf\"; H₁ (hipótesis alternativa): hay una diferencia en los ingresos promedio entre ambos planes. Si el valor p es menor que 0.05, se rechaza H₀ y se concluye que los ingresos promedio son diferentes. Si el valor p es mayor o igual a 0.05, no se puede rechazar H₀, indicando que no hay evidencia suficiente para afirmar que los ingresos promedio son diferentes."
   ]
  },
  {
   "cell_type": "code",
   "execution_count": 45,
   "metadata": {
    "id": "nFoPNlPq0q1R"
   },
   "outputs": [
    {
     "name": "stdout",
     "output_type": "stream",
     "text": [
      "ultimate income count: 579\n",
      "surf income count: 1180\n",
      "Levene's test statistic: 306.8986096655761\n",
      "Levene's test P-value: 1.8629725493881266e-63\n",
      "T-statistic: 9.38491226453422\n",
      "P-value: 2.541147770944028e-20\n",
      "Rechazamos la hipótesis nula (H₀). Los ingresos promedio son diferentes entre los planes Ultimate y Surf.\n"
     ]
    }
   ],
   "source": [
    "# Prueba las hipótesis\n",
    "# Filtrar los datos por plan y asegurarse de que los nombres coinciden y eliminar NaNs\n",
    "ultimate_income = final_data_complete[final_data_complete['plan'] == 'ultimate']['total_income'].dropna()\n",
    "surf_income = final_data_complete[final_data_complete['plan'] == 'surf']['total_income'].dropna()\n",
    "\n",
    "# Verificar que las series no estén vacías\n",
    "print(f\"ultimate income count: {len(ultimate_income)}\")\n",
    "print(f\"surf income count: {len(surf_income)}\")\n",
    "\n",
    "# Realizar la prueba de Levene para comprobar si las varianzas son iguales\n",
    "levene_stat, levene_p_value = st.levene(ultimate_income, surf_income)\n",
    "\n",
    "# Mostrar los resultados de la prueba de Levene\n",
    "print(f\"Levene's test statistic: {levene_stat}\")\n",
    "print(f\"Levene's test P-value: {levene_p_value}\")\n",
    "\n",
    "# Determinar si las varianzas son iguales\n",
    "equal_var = levene_p_value > 0.05\n",
    "\n",
    "# Realizar la prueba t de Student para dos muestras independientes, ajustada según el resultado de Levene\n",
    "t_stat, p_value = st.ttest_ind(ultimate_income, surf_income, equal_var=equal_var)\n",
    "\n",
    "# Determinar el valor alfa\n",
    "alpha = 0.05\n",
    "\n",
    "# Mostrar los resultados\n",
    "print(f\"T-statistic: {t_stat}\")\n",
    "print(f\"P-value: {p_value}\")\n",
    "\n",
    "# Conclusión de la prueba\n",
    "if p_value < alpha:\n",
    "    print(\"Rechazamos la hipótesis nula (H₀). Los ingresos promedio son diferentes entre los planes Ultimate y Surf.\")\n",
    "else:\n",
    "    print(\"No podemos rechazar la hipótesis nula (H₀). No hay evidencia suficiente para afirmar que los ingresos promedio son diferentes entre los planes Ultimate y Surf.\")"
   ]
  },
  {
   "cell_type": "markdown",
   "metadata": {
    "id": "tCcAruM60q1R"
   },
   "source": [
    "[Prueba la hipótesis de que el ingreso promedio de los usuarios del área NY-NJ es diferente al de los usuarios de otras regiones.]"
   ]
  },
  {
   "cell_type": "markdown",
   "metadata": {
    "id": "LsBgitqj0q1R"
   },
   "source": [
    "[Elabora las hipótesis nula y alternativa, escoge la prueba estadística, determina el valor alfa.]"
   ]
  },
  {
   "cell_type": "code",
   "execution_count": 46,
   "metadata": {
    "id": "Cqcj7wrZ0q1S"
   },
   "outputs": [
    {
     "name": "stdout",
     "output_type": "stream",
     "text": [
      "['Atlanta-Sandy Springs-Roswell, GA MSA' 'Seattle-Tacoma-Bellevue, WA MSA'\n",
      " 'Las Vegas-Henderson-Paradise, NV MSA' 'Tulsa, OK MSA'\n",
      " 'Dallas-Fort Worth-Arlington, TX MSA'\n",
      " 'San Francisco-Oakland-Berkeley, CA MSA' 'Grand Rapids-Kentwood, MI MSA'\n",
      " 'Orlando-Kissimmee-Sanford, FL MSA'\n",
      " 'San Jose-Sunnyvale-Santa Clara, CA MSA' 'Cleveland-Elyria, OH MSA'\n",
      " 'Chicago-Naperville-Elgin, IL-IN-WI MSA' 'Knoxville, TN MSA'\n",
      " 'New York-Newark-Jersey City, NY-NJ-PA MSA' 'Pittsburgh, PA MSA'\n",
      " 'Fresno, CA MSA' 'Washington-Arlington-Alexandria, DC-VA-MD-WV MSA'\n",
      " 'Indianapolis-Carmel-Anderson, IN MSA' 'Jacksonville, FL MSA'\n",
      " 'Los Angeles-Long Beach-Anaheim, CA MSA'\n",
      " 'Omaha-Council Bluffs, NE-IA MSA'\n",
      " 'Houston-The Woodlands-Sugar Land, TX MSA'\n",
      " 'Philadelphia-Camden-Wilmington, PA-NJ-DE-MD MSA'\n",
      " 'Tampa-St. Petersburg-Clearwater, FL MSA' 'Birmingham-Hoover, AL MSA'\n",
      " 'Oklahoma City, OK MSA' 'Charlotte-Concord-Gastonia, NC-SC MSA'\n",
      " 'Denver-Aurora-Lakewood, CO MSA'\n",
      " 'Nashville-Davidson–Murfreesboro–Franklin, TN MSA' 'Columbus, OH MSA'\n",
      " 'Albuquerque, NM MSA' 'Boston-Cambridge-Newton, MA-NH MSA'\n",
      " 'Miami-Fort Lauderdale-West Palm Beach, FL MSA'\n",
      " 'San Diego-Chula Vista-Carlsbad, CA MSA' 'Phoenix-Mesa-Chandler, AZ MSA'\n",
      " 'Portland-Vancouver-Hillsboro, OR-WA MSA' 'Cincinnati, OH-KY-IN MSA'\n",
      " 'Columbia, SC MSA' 'San Antonio-New Braunfels, TX MSA'\n",
      " 'Buffalo-Cheektowaga, NY MSA' 'Memphis, TN-MS-AR MSA'\n",
      " 'Riverside-San Bernardino-Ontario, CA MSA'\n",
      " 'Louisville/Jefferson County, KY-IN MSA'\n",
      " 'Albany-Schenectady-Troy, NY MSA' 'Providence-Warwick, RI-MA MSA'\n",
      " 'Urban Honolulu, HI MSA' 'El Paso, TX MSA' 'New Haven-Milford, CT MSA'\n",
      " 'North Port-Sarasota-Bradenton, FL MSA' 'New Orleans-Metairie, LA MSA'\n",
      " 'Bridgeport-Stamford-Norwalk, CT MSA'\n",
      " 'Virginia Beach-Norfolk-Newport News, VA-NC MSA'\n",
      " 'Baltimore-Columbia-Towson, MD MSA' 'Milwaukee-Waukesha, WI MSA'\n",
      " 'Oxnard-Thousand Oaks-Ventura, CA MSA'\n",
      " 'Sacramento–Roseville–Folsom, CA MSA'\n",
      " 'Austin-Round Rock-Georgetown, TX MSA' 'Richmond, VA MSA'\n",
      " 'St. Louis, MO-IL MSA' 'Minneapolis-St. Paul-Bloomington, MN-WI MSA'\n",
      " 'Dayton-Kettering, OH MSA' 'Bakersfield, CA MSA'\n",
      " 'Detroit-Warren-Dearborn, MI MSA' 'Baton Rouge, LA MSA'\n",
      " 'Kansas City, MO-KS MSA' 'Charleston-North Charleston, SC MSA'\n",
      " 'Rochester, NY MSA' 'Raleigh-Cary, NC MSA'\n",
      " 'Greensboro-High Point, NC MSA' 'Tucson, AZ MSA'\n",
      " 'Colorado Springs, CO MSA' 'Stockton, CA MSA' 'Salt Lake City, UT MSA'\n",
      " 'Cape Coral-Fort Myers, FL MSA']\n",
      "NY-NJ income has 279 records\n",
      "Other regions income has 1480 records\n",
      "T-statistic: -2.7283653587959633\n",
      "P-value: 0.00642830892329659\n",
      "Rechazamos la hipótesis nula (H₀). El ingreso promedio es diferente entre los usuarios del área NY-NJ y otras regiones.\n"
     ]
    }
   ],
   "source": [
    "# Prueba las hipótesis\n",
    "# Verificar los valores únicos en la columna 'city'\n",
    "unique_cities = final_data_complete['city'].unique()\n",
    "print(unique_cities)\n",
    "\n",
    "# Ajustar los nombres de las ciudades en el filtro según los valores revisados\n",
    "ny_nj_income = final_data_complete[final_data_complete['city'].isin(['New York-Newark-Jersey City, NY-NJ-PA MSA'])]['total_income'].dropna()\n",
    "other_regions_income = final_data_complete[~final_data_complete['city'].isin(['New York-Newark-Jersey City, NY-NJ-PA MSA'])]['total_income'].dropna()\n",
    "\n",
    "# Verificar nuevamente que no haya listas vacías\n",
    "print(f\"NY-NJ income has {ny_nj_income.count()} records\")\n",
    "print(f\"Other regions income has {other_regions_income.count()} records\")\n",
    "\n",
    "# Realizar la prueba de Levene para comprobar si las varianzas son iguales\n",
    "levene_stat, levene_p_value = st.levene(ny_nj_income, other_regions_income)\n",
    "\n",
    "# Determinar si las varianzas son iguales\n",
    "equal_var = levene_p_value > 0.05\n",
    "\n",
    "# Realizar la prueba t de Student para dos muestras independientes, ajustada según el resultado de Levene\n",
    "t_stat, p_value = st.ttest_ind(ny_nj_income, other_regions_income, equal_var=equal_var)\n",
    "\n",
    "# Determinar el valor alfa\n",
    "alpha = 0.05\n",
    "\n",
    "# Mostrar los resultados\n",
    "print(f\"T-statistic: {t_stat}\")\n",
    "print(f\"P-value: {p_value}\")\n",
    "\n",
    "# Conclusión de la prueba\n",
    "if p_value < alpha:\n",
    "    print(\"Rechazamos la hipótesis nula (H₀). El ingreso promedio es diferente entre los usuarios del área NY-NJ y otras regiones.\")\n",
    "else:\n",
    "    print(\"No podemos rechazar la hipótesis nula (H₀). No hay evidencia suficiente para afirmar que el ingreso promedio es diferente entre los usuarios del área NY-NJ y otras regiones.\")"
   ]
  },
  {
   "cell_type": "markdown",
   "metadata": {
    "id": "bbTR8UQO0q1T"
   },
   "source": [
    "## Conclusión general\n",
    "\n",
    "El análisis revela que los planes Ultimate y Surf tienen patrones de uso y generación de ingresos significativamente diferentes. Los usuarios del plan Ultimate tienden a utilizar más recursos y generar mayores ingresos debido a los mayores límites y tarifas adicionales más bajas. Las pruebas de hipótesis confirman que los ingresos promedio entre estos planes son significativamente diferentes, así como entre usuarios del área NY-NJ y otras regiones. Estas conclusiones, basadas en la conversión de fechas, redondeo de duraciones, cálculo de mes, y fusión de datos, junto con el uso de pruebas t de Student y un valor alfa de 0.05, proporcionan una comprensión profunda del comportamiento de los usuarios y de las diferencias en la rentabilidad de los planes, informando decisiones estratégicas para optimizar las ofertas de servicios y maximizar los ingresos."
   ]
  }
 ],
 "metadata": {
  "ExecuteTimeLog": [
   {
    "duration": 828,
    "start_time": "2021-11-16T09:21:11.304Z"
   },
   {
    "duration": 893,
    "start_time": "2021-11-16T09:21:17.728Z"
   },
   {
    "duration": 1150,
    "start_time": "2021-11-16T09:21:29.568Z"
   },
   {
    "duration": 3,
    "start_time": "2021-11-16T09:24:14.495Z"
   },
   {
    "duration": 120,
    "start_time": "2021-11-16T09:24:46.630Z"
   },
   {
    "duration": 3,
    "start_time": "2021-11-16T09:28:27.882Z"
   },
   {
    "duration": 4,
    "start_time": "2021-11-16T09:29:54.281Z"
   },
   {
    "duration": 3,
    "start_time": "2021-11-16T09:30:45.936Z"
   },
   {
    "duration": 4,
    "start_time": "2021-11-16T09:31:06.300Z"
   },
   {
    "duration": 113,
    "start_time": "2021-11-16T09:31:37.208Z"
   },
   {
    "duration": 143,
    "start_time": "2021-11-16T09:31:48.656Z"
   },
   {
    "duration": 98,
    "start_time": "2021-11-16T09:31:55.678Z"
   },
   {
    "duration": 3,
    "start_time": "2021-11-16T09:32:08.535Z"
   },
   {
    "duration": 111,
    "start_time": "2021-11-16T09:32:10.120Z"
   },
   {
    "duration": 3,
    "start_time": "2021-11-16T09:32:15.732Z"
   },
   {
    "duration": 4,
    "start_time": "2021-11-16T09:32:29.423Z"
   },
   {
    "duration": 3,
    "start_time": "2021-11-16T10:03:03.074Z"
   },
   {
    "duration": 3,
    "start_time": "2021-11-16T10:10:01.288Z"
   },
   {
    "duration": 3,
    "start_time": "2021-11-16T10:10:46.923Z"
   },
   {
    "duration": 121,
    "start_time": "2021-11-16T10:37:46.494Z"
   },
   {
    "duration": 125,
    "start_time": "2021-11-16T10:38:20.632Z"
   },
   {
    "duration": 112,
    "start_time": "2021-11-16T10:46:53.001Z"
   },
   {
    "duration": 110,
    "start_time": "2021-11-16T10:48:25.775Z"
   },
   {
    "duration": 3,
    "start_time": "2021-11-16T10:50:18.720Z"
   },
   {
    "duration": 4,
    "start_time": "2021-11-16T10:50:37.649Z"
   },
   {
    "duration": 2,
    "start_time": "2021-11-16T10:50:51.884Z"
   },
   {
    "duration": 3,
    "start_time": "2021-11-16T10:51:56.237Z"
   },
   {
    "duration": 101,
    "start_time": "2021-11-16T10:53:13.791Z"
   },
   {
    "duration": 3,
    "start_time": "2021-11-16T10:55:59.186Z"
   },
   {
    "duration": 3,
    "start_time": "2021-11-16T10:56:10.751Z"
   },
   {
    "duration": 3,
    "start_time": "2021-11-16T10:56:49.038Z"
   },
   {
    "duration": 3,
    "start_time": "2021-11-16T10:56:49.174Z"
   },
   {
    "duration": 4,
    "start_time": "2021-11-16T10:56:49.414Z"
   },
   {
    "duration": 3,
    "start_time": "2021-11-16T10:56:49.680Z"
   },
   {
    "duration": 3,
    "start_time": "2021-11-16T10:56:50.370Z"
   },
   {
    "duration": 114,
    "start_time": "2021-11-16T10:59:34.518Z"
   },
   {
    "duration": 3,
    "start_time": "2021-11-16T11:01:41.201Z"
   },
   {
    "duration": 116,
    "start_time": "2021-11-16T11:01:48.754Z"
   },
   {
    "duration": 3,
    "start_time": "2021-11-16T11:02:16.685Z"
   },
   {
    "duration": 3,
    "start_time": "2021-11-16T11:02:19.479Z"
   },
   {
    "duration": 3,
    "start_time": "2021-11-16T11:02:47.067Z"
   },
   {
    "duration": 3,
    "start_time": "2021-11-16T11:02:49.353Z"
   },
   {
    "duration": 3,
    "start_time": "2021-11-16T11:03:07.835Z"
   },
   {
    "duration": 3,
    "start_time": "2021-11-16T11:03:07.953Z"
   },
   {
    "duration": 112,
    "start_time": "2021-11-16T11:07:52.072Z"
   },
   {
    "duration": 187,
    "start_time": "2021-11-16T11:09:23.468Z"
   },
   {
    "duration": 4,
    "start_time": "2021-11-16T11:10:01.455Z"
   },
   {
    "duration": 3,
    "start_time": "2021-11-16T11:10:05.069Z"
   },
   {
    "duration": 4,
    "start_time": "2021-11-16T11:10:13.376Z"
   },
   {
    "duration": 3,
    "start_time": "2021-11-16T11:10:14.434Z"
   },
   {
    "duration": 3,
    "start_time": "2021-11-16T11:10:22.853Z"
   },
   {
    "duration": 4,
    "start_time": "2021-11-16T11:27:29.279Z"
   },
   {
    "duration": 4,
    "start_time": "2021-11-16T11:29:08.919Z"
   },
   {
    "duration": 118,
    "start_time": "2021-11-16T11:29:46.703Z"
   },
   {
    "duration": 437,
    "start_time": "2021-11-16T11:36:02.181Z"
   },
   {
    "duration": 157,
    "start_time": "2021-11-16T11:36:14.388Z"
   },
   {
    "duration": 207,
    "start_time": "2021-11-16T11:47:15.898Z"
   },
   {
    "duration": 3,
    "start_time": "2021-11-16T11:53:52.092Z"
   },
   {
    "duration": 3,
    "start_time": "2021-11-16T11:53:52.236Z"
   },
   {
    "duration": 3,
    "start_time": "2021-11-16T11:59:12.005Z"
   },
   {
    "duration": 112,
    "start_time": "2021-11-16T12:00:33.446Z"
   },
   {
    "duration": 3,
    "start_time": "2021-11-16T12:02:14.453Z"
   },
   {
    "duration": 3,
    "start_time": "2021-11-16T12:02:39.512Z"
   },
   {
    "duration": 106,
    "start_time": "2021-11-16T12:03:03.460Z"
   },
   {
    "duration": 3,
    "start_time": "2021-11-17T20:37:21.139Z"
   },
   {
    "duration": 3,
    "start_time": "2021-11-17T20:37:22.229Z"
   },
   {
    "duration": 3,
    "start_time": "2021-11-17T20:38:38.806Z"
   },
   {
    "duration": 3,
    "start_time": "2021-11-17T20:38:41.958Z"
   },
   {
    "duration": 3,
    "start_time": "2021-11-17T20:43:46.551Z"
   },
   {
    "duration": 4,
    "start_time": "2021-11-17T20:58:21.835Z"
   },
   {
    "duration": 3,
    "start_time": "2021-11-17T20:59:21.872Z"
   },
   {
    "duration": 4,
    "start_time": "2021-11-17T20:59:45.352Z"
   },
   {
    "duration": 4,
    "start_time": "2021-11-17T20:59:49.646Z"
   },
   {
    "duration": 159,
    "start_time": "2021-11-17T21:02:26.949Z"
   },
   {
    "duration": 3,
    "start_time": "2021-11-17T21:03:53.461Z"
   },
   {
    "duration": 3,
    "start_time": "2021-11-17T21:03:53.694Z"
   },
   {
    "duration": 3,
    "start_time": "2021-11-17T21:05:28.145Z"
   },
   {
    "duration": 116,
    "start_time": "2021-11-17T21:05:57.787Z"
   },
   {
    "duration": 3,
    "start_time": "2021-11-17T21:06:37.993Z"
   },
   {
    "duration": 3,
    "start_time": "2021-11-17T21:06:38.261Z"
   },
   {
    "duration": 3,
    "start_time": "2021-11-17T21:11:54.358Z"
   },
   {
    "duration": 3,
    "start_time": "2021-11-17T21:12:43.846Z"
   },
   {
    "duration": 4,
    "start_time": "2021-11-17T21:13:08.773Z"
   },
   {
    "duration": 3,
    "start_time": "2021-11-17T21:14:44.441Z"
   },
   {
    "duration": 3,
    "start_time": "2021-11-17T21:15:42.059Z"
   },
   {
    "duration": 4,
    "start_time": "2021-11-17T21:15:51.995Z"
   },
   {
    "duration": 3,
    "start_time": "2021-11-17T21:15:53.923Z"
   },
   {
    "duration": 3,
    "start_time": "2021-11-17T21:15:55.282Z"
   },
   {
    "duration": 3,
    "start_time": "2021-11-17T21:16:28.492Z"
   },
   {
    "duration": 3,
    "start_time": "2021-11-17T21:16:32.603Z"
   },
   {
    "duration": 3,
    "start_time": "2021-11-17T21:17:06.941Z"
   },
   {
    "duration": 98,
    "start_time": "2021-11-17T21:18:05.733Z"
   },
   {
    "duration": 4,
    "start_time": "2021-11-17T21:21:35.255Z"
   },
   {
    "duration": 3,
    "start_time": "2021-11-17T21:21:37.804Z"
   },
   {
    "duration": 4,
    "start_time": "2021-11-17T21:23:06.071Z"
   },
   {
    "duration": 3,
    "start_time": "2021-11-17T21:23:24.799Z"
   },
   {
    "duration": 3,
    "start_time": "2021-11-17T21:23:32.591Z"
   },
   {
    "duration": 98,
    "start_time": "2021-11-17T21:28:31.559Z"
   },
   {
    "duration": 3,
    "start_time": "2021-11-17T21:28:45.448Z"
   },
   {
    "duration": 3,
    "start_time": "2021-11-17T21:29:17.303Z"
   },
   {
    "duration": 3,
    "start_time": "2021-11-17T21:29:29.617Z"
   },
   {
    "duration": 3,
    "start_time": "2021-11-17T21:29:32.681Z"
   },
   {
    "duration": 3,
    "start_time": "2021-11-17T21:36:11.474Z"
   },
   {
    "duration": 3,
    "start_time": "2021-11-17T21:36:14.791Z"
   },
   {
    "duration": 3,
    "start_time": "2021-11-17T21:36:53.943Z"
   },
   {
    "duration": 3,
    "start_time": "2021-11-17T21:36:56.165Z"
   },
   {
    "duration": 4,
    "start_time": "2021-11-17T21:37:16.590Z"
   },
   {
    "duration": 3,
    "start_time": "2021-11-17T21:37:22.702Z"
   },
   {
    "duration": 4,
    "start_time": "2021-11-17T21:38:03.479Z"
   },
   {
    "duration": 3,
    "start_time": "2021-11-17T21:38:08.601Z"
   },
   {
    "duration": 3,
    "start_time": "2021-11-17T21:38:12.928Z"
   },
   {
    "duration": 3,
    "start_time": "2021-11-17T21:38:48.896Z"
   },
   {
    "duration": 2,
    "start_time": "2021-11-17T21:38:49.171Z"
   },
   {
    "duration": 4,
    "start_time": "2021-11-17T21:39:57.889Z"
   },
   {
    "duration": 3,
    "start_time": "2021-11-17T21:39:58.057Z"
   },
   {
    "duration": 3,
    "start_time": "2021-11-17T21:41:20.108Z"
   },
   {
    "duration": 3,
    "start_time": "2021-11-17T21:41:20.629Z"
   },
   {
    "duration": 3,
    "start_time": "2021-11-17T21:42:49.136Z"
   },
   {
    "duration": 3,
    "start_time": "2021-11-17T21:43:15.137Z"
   },
   {
    "duration": 4,
    "start_time": "2021-11-17T21:43:16.766Z"
   },
   {
    "duration": 4,
    "start_time": "2021-11-17T21:43:31.711Z"
   },
   {
    "duration": 3,
    "start_time": "2021-11-17T21:43:36.312Z"
   },
   {
    "duration": 4,
    "start_time": "2021-11-17T21:45:08.825Z"
   },
   {
    "duration": 4,
    "start_time": "2021-11-17T21:45:10.119Z"
   },
   {
    "duration": 4,
    "start_time": "2021-11-17T21:45:13.748Z"
   },
   {
    "duration": 3,
    "start_time": "2021-11-17T21:45:22.219Z"
   },
   {
    "duration": 3,
    "start_time": "2021-11-17T21:45:33.412Z"
   },
   {
    "duration": 2,
    "start_time": "2021-11-17T21:46:01.885Z"
   },
   {
    "duration": 3,
    "start_time": "2021-11-17T21:46:03.628Z"
   },
   {
    "duration": 107,
    "start_time": "2021-11-17T21:47:32.512Z"
   },
   {
    "duration": 103,
    "start_time": "2021-11-17T21:50:36.243Z"
   },
   {
    "duration": 3,
    "start_time": "2021-11-18T06:28:31.440Z"
   },
   {
    "duration": 3,
    "start_time": "2021-11-18T06:29:00.168Z"
   },
   {
    "duration": 3,
    "start_time": "2021-11-18T06:31:27.008Z"
   },
   {
    "duration": 2,
    "start_time": "2021-11-18T06:35:34.288Z"
   },
   {
    "duration": 2,
    "start_time": "2021-11-18T06:38:04.527Z"
   },
   {
    "duration": 309,
    "start_time": "2024-08-02T23:24:03.644Z"
   },
   {
    "duration": 25,
    "start_time": "2024-08-02T23:24:31.497Z"
   },
   {
    "duration": 4947,
    "start_time": "2024-08-02T23:25:31.673Z"
   },
   {
    "duration": 390,
    "start_time": "2024-08-02T23:25:36.624Z"
   },
   {
    "duration": 272,
    "start_time": "2024-08-02T23:25:38.864Z"
   },
   {
    "duration": 15,
    "start_time": "2024-08-02T23:27:07.929Z"
   },
   {
    "duration": 9,
    "start_time": "2024-08-02T23:31:23.393Z"
   },
   {
    "duration": 4,
    "start_time": "2024-08-02T23:44:56.608Z"
   },
   {
    "duration": 274,
    "start_time": "2024-08-02T23:45:01.282Z"
   },
   {
    "duration": 174,
    "start_time": "2024-08-02T23:46:11.923Z"
   },
   {
    "duration": 84,
    "start_time": "2024-08-02T23:46:39.156Z"
   },
   {
    "duration": 1235,
    "start_time": "2024-08-02T23:46:58.656Z"
   },
   {
    "duration": 277,
    "start_time": "2024-08-02T23:46:59.894Z"
   },
   {
    "duration": 92,
    "start_time": "2024-08-02T23:47:00.174Z"
   },
   {
    "duration": 13,
    "start_time": "2024-08-02T23:47:00.270Z"
   },
   {
    "duration": 12,
    "start_time": "2024-08-02T23:47:00.285Z"
   },
   {
    "duration": 35,
    "start_time": "2024-08-02T23:47:00.299Z"
   },
   {
    "duration": 4,
    "start_time": "2024-08-02T23:47:00.336Z"
   },
   {
    "duration": 4,
    "start_time": "2024-08-02T23:47:00.343Z"
   },
   {
    "duration": 3,
    "start_time": "2024-08-02T23:47:00.350Z"
   },
   {
    "duration": 3,
    "start_time": "2024-08-02T23:47:00.360Z"
   },
   {
    "duration": 4,
    "start_time": "2024-08-02T23:47:00.365Z"
   },
   {
    "duration": 3,
    "start_time": "2024-08-02T23:47:00.372Z"
   },
   {
    "duration": 4,
    "start_time": "2024-08-02T23:47:00.434Z"
   },
   {
    "duration": 4,
    "start_time": "2024-08-02T23:47:00.441Z"
   },
   {
    "duration": 4,
    "start_time": "2024-08-02T23:47:00.448Z"
   },
   {
    "duration": 4,
    "start_time": "2024-08-02T23:47:00.455Z"
   },
   {
    "duration": 4,
    "start_time": "2024-08-02T23:47:00.462Z"
   },
   {
    "duration": 4,
    "start_time": "2024-08-02T23:47:00.469Z"
   },
   {
    "duration": 59,
    "start_time": "2024-08-02T23:47:00.475Z"
   },
   {
    "duration": 4,
    "start_time": "2024-08-02T23:47:00.537Z"
   },
   {
    "duration": 3,
    "start_time": "2024-08-02T23:47:00.545Z"
   },
   {
    "duration": 4,
    "start_time": "2024-08-02T23:47:00.552Z"
   },
   {
    "duration": 4,
    "start_time": "2024-08-02T23:47:00.558Z"
   },
   {
    "duration": 5,
    "start_time": "2024-08-02T23:47:00.565Z"
   },
   {
    "duration": 4,
    "start_time": "2024-08-02T23:47:00.573Z"
   },
   {
    "duration": 55,
    "start_time": "2024-08-02T23:47:00.580Z"
   },
   {
    "duration": 3,
    "start_time": "2024-08-02T23:47:00.638Z"
   },
   {
    "duration": 2,
    "start_time": "2024-08-02T23:47:00.648Z"
   },
   {
    "duration": 5,
    "start_time": "2024-08-02T23:47:00.653Z"
   },
   {
    "duration": 1372,
    "start_time": "2024-08-02T23:47:49.724Z"
   },
   {
    "duration": 69,
    "start_time": "2024-08-02T23:50:54.617Z"
   },
   {
    "duration": 67,
    "start_time": "2024-08-02T23:50:58.742Z"
   },
   {
    "duration": 4,
    "start_time": "2024-08-02T23:51:15.777Z"
   },
   {
    "duration": 295,
    "start_time": "2024-08-02T23:51:15.786Z"
   },
   {
    "duration": 91,
    "start_time": "2024-08-02T23:51:16.085Z"
   },
   {
    "duration": 14,
    "start_time": "2024-08-02T23:51:16.179Z"
   },
   {
    "duration": 9,
    "start_time": "2024-08-02T23:51:16.197Z"
   },
   {
    "duration": 76,
    "start_time": "2024-08-02T23:51:16.234Z"
   },
   {
    "duration": 1206,
    "start_time": "2024-08-02T23:51:36.881Z"
   },
   {
    "duration": 261,
    "start_time": "2024-08-02T23:51:38.090Z"
   },
   {
    "duration": 94,
    "start_time": "2024-08-02T23:51:38.355Z"
   },
   {
    "duration": 15,
    "start_time": "2024-08-02T23:51:38.453Z"
   },
   {
    "duration": 9,
    "start_time": "2024-08-02T23:51:38.472Z"
   },
   {
    "duration": 103,
    "start_time": "2024-08-02T23:51:38.485Z"
   },
   {
    "duration": 4,
    "start_time": "2024-08-02T23:51:38.590Z"
   },
   {
    "duration": 3,
    "start_time": "2024-08-02T23:51:38.598Z"
   },
   {
    "duration": 31,
    "start_time": "2024-08-02T23:51:38.603Z"
   },
   {
    "duration": 2,
    "start_time": "2024-08-02T23:51:38.642Z"
   },
   {
    "duration": 4,
    "start_time": "2024-08-02T23:51:38.647Z"
   },
   {
    "duration": 4,
    "start_time": "2024-08-02T23:51:38.654Z"
   },
   {
    "duration": 4,
    "start_time": "2024-08-02T23:51:38.661Z"
   },
   {
    "duration": 4,
    "start_time": "2024-08-02T23:51:38.667Z"
   },
   {
    "duration": 4,
    "start_time": "2024-08-02T23:51:38.674Z"
   },
   {
    "duration": 54,
    "start_time": "2024-08-02T23:51:38.681Z"
   },
   {
    "duration": 4,
    "start_time": "2024-08-02T23:51:38.738Z"
   },
   {
    "duration": 4,
    "start_time": "2024-08-02T23:51:38.745Z"
   },
   {
    "duration": 4,
    "start_time": "2024-08-02T23:51:38.752Z"
   },
   {
    "duration": 4,
    "start_time": "2024-08-02T23:51:38.759Z"
   },
   {
    "duration": 3,
    "start_time": "2024-08-02T23:51:38.766Z"
   },
   {
    "duration": 3,
    "start_time": "2024-08-02T23:51:38.772Z"
   },
   {
    "duration": 57,
    "start_time": "2024-08-02T23:51:38.778Z"
   },
   {
    "duration": 4,
    "start_time": "2024-08-02T23:51:38.838Z"
   },
   {
    "duration": 4,
    "start_time": "2024-08-02T23:51:38.845Z"
   },
   {
    "duration": 4,
    "start_time": "2024-08-02T23:51:38.851Z"
   },
   {
    "duration": 4,
    "start_time": "2024-08-02T23:51:38.858Z"
   },
   {
    "duration": 2,
    "start_time": "2024-08-02T23:51:38.869Z"
   },
   {
    "duration": 59,
    "start_time": "2024-08-02T23:51:38.874Z"
   },
   {
    "duration": 3,
    "start_time": "2024-08-02T23:51:38.937Z"
   },
   {
    "duration": 13,
    "start_time": "2024-08-03T00:02:50.788Z"
   },
   {
    "duration": 9,
    "start_time": "2024-08-03T00:02:53.819Z"
   },
   {
    "duration": 24,
    "start_time": "2024-08-03T00:06:40.535Z"
   },
   {
    "duration": 7695,
    "start_time": "2024-08-03T00:07:04.902Z"
   },
   {
    "duration": 19,
    "start_time": "2024-08-03T00:11:37.195Z"
   },
   {
    "duration": 2330,
    "start_time": "2024-08-03T00:11:40.251Z"
   },
   {
    "duration": 22,
    "start_time": "2024-08-03T00:12:25.482Z"
   },
   {
    "duration": 190,
    "start_time": "2024-08-03T00:12:31.667Z"
   },
   {
    "duration": 4385,
    "start_time": "2024-08-03T00:12:37.744Z"
   },
   {
    "duration": 317,
    "start_time": "2024-08-04T14:08:56.015Z"
   },
   {
    "duration": 4853,
    "start_time": "2024-08-04T14:09:12.958Z"
   },
   {
    "duration": 348,
    "start_time": "2024-08-04T14:09:17.814Z"
   },
   {
    "duration": 92,
    "start_time": "2024-08-04T14:09:18.165Z"
   },
   {
    "duration": 14,
    "start_time": "2024-08-04T14:09:18.261Z"
   },
   {
    "duration": 10,
    "start_time": "2024-08-04T14:09:18.278Z"
   },
   {
    "duration": 46,
    "start_time": "2024-08-04T14:09:18.291Z"
   },
   {
    "duration": 10,
    "start_time": "2024-08-04T14:09:34.772Z"
   },
   {
    "duration": 12,
    "start_time": "2024-08-04T14:32:16.530Z"
   },
   {
    "duration": 7,
    "start_time": "2024-08-04T14:58:25.270Z"
   },
   {
    "duration": 19,
    "start_time": "2024-08-04T14:59:49.103Z"
   },
   {
    "duration": 25,
    "start_time": "2024-08-04T15:10:20.034Z"
   },
   {
    "duration": 58,
    "start_time": "2024-08-04T15:18:39.358Z"
   },
   {
    "duration": 34,
    "start_time": "2024-08-04T15:27:17.226Z"
   },
   {
    "duration": 43,
    "start_time": "2024-08-04T15:32:47.974Z"
   },
   {
    "duration": 24,
    "start_time": "2024-08-04T15:34:06.757Z"
   },
   {
    "duration": 310,
    "start_time": "2024-08-05T16:55:48.461Z"
   },
   {
    "duration": 4961,
    "start_time": "2024-08-05T16:56:04.466Z"
   },
   {
    "duration": 385,
    "start_time": "2024-08-05T16:56:09.430Z"
   },
   {
    "duration": 93,
    "start_time": "2024-08-05T16:56:09.818Z"
   },
   {
    "duration": 13,
    "start_time": "2024-08-05T16:56:09.915Z"
   },
   {
    "duration": 11,
    "start_time": "2024-08-05T16:56:09.931Z"
   },
   {
    "duration": 11,
    "start_time": "2024-08-05T16:56:09.945Z"
   },
   {
    "duration": 15,
    "start_time": "2024-08-05T16:56:09.991Z"
   },
   {
    "duration": 12,
    "start_time": "2024-08-05T16:56:10.008Z"
   },
   {
    "duration": 23,
    "start_time": "2024-08-05T16:56:10.024Z"
   },
   {
    "duration": 26,
    "start_time": "2024-08-05T16:56:10.094Z"
   },
   {
    "duration": 25,
    "start_time": "2024-08-05T16:56:10.123Z"
   },
   {
    "duration": 7682,
    "start_time": "2024-08-05T16:56:10.150Z"
   },
   {
    "duration": 68,
    "start_time": "2024-08-05T16:56:17.835Z"
   },
   {
    "duration": 35,
    "start_time": "2024-08-05T16:56:17.906Z"
   },
   {
    "duration": 46,
    "start_time": "2024-08-05T16:56:17.945Z"
   },
   {
    "duration": 2335,
    "start_time": "2024-08-05T16:56:17.994Z"
   },
   {
    "duration": 36,
    "start_time": "2024-08-05T16:56:20.332Z"
   },
   {
    "duration": 25,
    "start_time": "2024-08-05T16:56:20.392Z"
   },
   {
    "duration": 24,
    "start_time": "2024-08-05T16:56:20.421Z"
   },
   {
    "duration": 4425,
    "start_time": "2024-08-05T16:56:20.448Z"
   },
   {
    "duration": 54,
    "start_time": "2024-08-05T16:56:24.876Z"
   },
   {
    "duration": 51,
    "start_time": "2024-08-05T16:58:04.652Z"
   },
   {
    "duration": 8,
    "start_time": "2024-08-05T17:12:10.789Z"
   },
   {
    "duration": 21,
    "start_time": "2024-08-05T17:15:12.765Z"
   },
   {
    "duration": 19,
    "start_time": "2024-08-05T17:16:22.826Z"
   },
   {
    "duration": 21,
    "start_time": "2024-08-05T17:16:39.524Z"
   },
   {
    "duration": 15,
    "start_time": "2024-08-05T17:17:38.443Z"
   },
   {
    "duration": 27,
    "start_time": "2024-08-05T17:18:41.286Z"
   },
   {
    "duration": 38,
    "start_time": "2024-08-05T17:23:50.018Z"
   },
   {
    "duration": 38,
    "start_time": "2024-08-05T17:28:22.671Z"
   },
   {
    "duration": 32,
    "start_time": "2024-08-05T17:28:49.456Z"
   },
   {
    "duration": 34,
    "start_time": "2024-08-05T17:32:03.248Z"
   },
   {
    "duration": 4,
    "start_time": "2024-08-05T17:38:28.814Z"
   },
   {
    "duration": 373,
    "start_time": "2024-08-05T17:43:26.677Z"
   },
   {
    "duration": 10,
    "start_time": "2024-08-05T17:44:43.716Z"
   },
   {
    "duration": 429,
    "start_time": "2024-08-05T17:45:08.296Z"
   },
   {
    "duration": 122,
    "start_time": "2024-08-05T17:46:59.597Z"
   },
   {
    "duration": 14,
    "start_time": "2024-08-05T17:47:15.428Z"
   },
   {
    "duration": 12,
    "start_time": "2024-08-05T17:47:19.571Z"
   },
   {
    "duration": 4,
    "start_time": "2024-08-05T17:47:24.547Z"
   },
   {
    "duration": 336,
    "start_time": "2024-08-05T17:47:24.556Z"
   },
   {
    "duration": 102,
    "start_time": "2024-08-05T17:47:24.896Z"
   },
   {
    "duration": 16,
    "start_time": "2024-08-05T17:47:25.002Z"
   },
   {
    "duration": 9,
    "start_time": "2024-08-05T17:47:25.024Z"
   },
   {
    "duration": 55,
    "start_time": "2024-08-05T17:47:25.036Z"
   },
   {
    "duration": 14,
    "start_time": "2024-08-05T17:47:25.094Z"
   },
   {
    "duration": 11,
    "start_time": "2024-08-05T17:47:25.112Z"
   },
   {
    "duration": 21,
    "start_time": "2024-08-05T17:47:25.127Z"
   },
   {
    "duration": 65,
    "start_time": "2024-08-05T17:47:25.151Z"
   },
   {
    "duration": 28,
    "start_time": "2024-08-05T17:47:25.219Z"
   },
   {
    "duration": 7794,
    "start_time": "2024-08-05T17:47:25.251Z"
   },
   {
    "duration": 69,
    "start_time": "2024-08-05T17:47:33.048Z"
   },
   {
    "duration": 45,
    "start_time": "2024-08-05T17:47:33.125Z"
   },
   {
    "duration": 23,
    "start_time": "2024-08-05T17:47:33.193Z"
   },
   {
    "duration": 2381,
    "start_time": "2024-08-05T17:47:33.220Z"
   },
   {
    "duration": 37,
    "start_time": "2024-08-05T17:47:35.604Z"
   },
   {
    "duration": 54,
    "start_time": "2024-08-05T17:47:35.644Z"
   },
   {
    "duration": 22,
    "start_time": "2024-08-05T17:47:35.701Z"
   },
   {
    "duration": 4464,
    "start_time": "2024-08-05T17:47:35.726Z"
   },
   {
    "duration": 46,
    "start_time": "2024-08-05T17:47:40.193Z"
   },
   {
    "duration": 149,
    "start_time": "2024-08-05T17:47:40.242Z"
   },
   {
    "duration": 8,
    "start_time": "2024-08-05T17:47:40.394Z"
   },
   {
    "duration": 17,
    "start_time": "2024-08-05T17:47:40.405Z"
   },
   {
    "duration": 19,
    "start_time": "2024-08-05T17:47:40.425Z"
   },
   {
    "duration": 56,
    "start_time": "2024-08-05T17:47:40.447Z"
   },
   {
    "duration": 19,
    "start_time": "2024-08-05T17:47:40.508Z"
   },
   {
    "duration": 71,
    "start_time": "2024-08-05T17:47:40.530Z"
   },
   {
    "duration": 31,
    "start_time": "2024-08-05T17:47:40.604Z"
   },
   {
    "duration": 56,
    "start_time": "2024-08-05T17:47:40.639Z"
   },
   {
    "duration": 380,
    "start_time": "2024-08-05T17:47:40.698Z"
   },
   {
    "duration": 471,
    "start_time": "2024-08-05T17:47:41.089Z"
   },
   {
    "duration": 27,
    "start_time": "2024-08-05T17:47:41.563Z"
   },
   {
    "duration": 13,
    "start_time": "2024-08-05T17:48:20.939Z"
   },
   {
    "duration": 20,
    "start_time": "2024-08-05T17:48:39.397Z"
   },
   {
    "duration": 264,
    "start_time": "2024-08-05T17:49:54.510Z"
   },
   {
    "duration": 369,
    "start_time": "2024-08-05T18:06:07.423Z"
   },
   {
    "duration": 427,
    "start_time": "2024-08-05T18:06:28.619Z"
   },
   {
    "duration": 33,
    "start_time": "2024-08-05T18:13:02.083Z"
   },
   {
    "duration": 235,
    "start_time": "2024-08-05T18:13:06.534Z"
   },
   {
    "duration": 333,
    "start_time": "2024-08-05T18:23:24.042Z"
   },
   {
    "duration": 38,
    "start_time": "2024-08-05T18:23:34.408Z"
   },
   {
    "duration": 331,
    "start_time": "2024-08-05T18:23:38.282Z"
   },
   {
    "duration": 11,
    "start_time": "2024-08-05T18:34:40.017Z"
   },
   {
    "duration": 282,
    "start_time": "2024-08-05T18:34:44.461Z"
   },
   {
    "duration": 17,
    "start_time": "2024-08-05T18:34:48.785Z"
   },
   {
    "duration": 256,
    "start_time": "2024-08-05T18:34:52.828Z"
   },
   {
    "duration": 161,
    "start_time": "2024-08-05T18:39:32.282Z"
   },
   {
    "duration": 11,
    "start_time": "2024-08-05T18:41:46.602Z"
   },
   {
    "duration": 56,
    "start_time": "2024-08-05T18:43:23.283Z"
   },
   {
    "duration": 920,
    "start_time": "2024-08-05T18:43:30.221Z"
   },
   {
    "duration": 5,
    "start_time": "2024-08-05T18:45:02.423Z"
   },
   {
    "duration": 399,
    "start_time": "2024-08-05T18:45:02.435Z"
   },
   {
    "duration": 114,
    "start_time": "2024-08-05T18:45:02.841Z"
   },
   {
    "duration": 15,
    "start_time": "2024-08-05T18:45:02.958Z"
   },
   {
    "duration": 15,
    "start_time": "2024-08-05T18:45:02.978Z"
   },
   {
    "duration": 12,
    "start_time": "2024-08-05T18:45:02.997Z"
   },
   {
    "duration": 115,
    "start_time": "2024-08-05T18:45:46.143Z"
   },
   {
    "duration": 327,
    "start_time": "2024-08-06T21:26:18.777Z"
   },
   {
    "duration": 4967,
    "start_time": "2024-08-06T21:26:23.289Z"
   },
   {
    "duration": 358,
    "start_time": "2024-08-06T21:26:28.267Z"
   },
   {
    "duration": 93,
    "start_time": "2024-08-06T21:26:28.628Z"
   },
   {
    "duration": 14,
    "start_time": "2024-08-06T21:26:28.725Z"
   },
   {
    "duration": 37,
    "start_time": "2024-08-06T21:26:28.741Z"
   },
   {
    "duration": 11,
    "start_time": "2024-08-06T21:26:28.784Z"
   },
   {
    "duration": 18,
    "start_time": "2024-08-06T21:26:28.800Z"
   },
   {
    "duration": 49,
    "start_time": "2024-08-06T21:26:28.821Z"
   },
   {
    "duration": 19,
    "start_time": "2024-08-06T21:26:28.874Z"
   },
   {
    "duration": 25,
    "start_time": "2024-08-06T21:26:28.901Z"
   },
   {
    "duration": 26,
    "start_time": "2024-08-06T21:26:28.969Z"
   },
   {
    "duration": 7682,
    "start_time": "2024-08-06T21:26:28.999Z"
   },
   {
    "duration": 55,
    "start_time": "2024-08-06T21:26:36.684Z"
   },
   {
    "duration": 52,
    "start_time": "2024-08-06T21:26:36.741Z"
   },
   {
    "duration": 20,
    "start_time": "2024-08-06T21:26:36.796Z"
   },
   {
    "duration": 2386,
    "start_time": "2024-08-06T21:26:36.819Z"
   },
   {
    "duration": 36,
    "start_time": "2024-08-06T21:26:39.209Z"
   },
   {
    "duration": 43,
    "start_time": "2024-08-06T21:26:39.249Z"
   },
   {
    "duration": 22,
    "start_time": "2024-08-06T21:26:39.295Z"
   },
   {
    "duration": 4384,
    "start_time": "2024-08-06T21:26:39.320Z"
   },
   {
    "duration": 44,
    "start_time": "2024-08-06T21:26:43.707Z"
   },
   {
    "duration": 46,
    "start_time": "2024-08-06T21:26:43.770Z"
   },
   {
    "duration": 8,
    "start_time": "2024-08-06T21:26:43.819Z"
   },
   {
    "duration": 50,
    "start_time": "2024-08-06T21:26:43.830Z"
   },
   {
    "duration": 25,
    "start_time": "2024-08-06T21:26:43.883Z"
   },
   {
    "duration": 16,
    "start_time": "2024-08-06T21:26:43.913Z"
   },
   {
    "duration": 48,
    "start_time": "2024-08-06T21:26:43.935Z"
   },
   {
    "duration": 35,
    "start_time": "2024-08-06T21:26:43.993Z"
   },
   {
    "duration": 60,
    "start_time": "2024-08-06T21:26:44.031Z"
   },
   {
    "duration": 28,
    "start_time": "2024-08-06T21:26:44.094Z"
   },
   {
    "duration": 387,
    "start_time": "2024-08-06T21:26:44.125Z"
   },
   {
    "duration": 453,
    "start_time": "2024-08-06T21:26:44.515Z"
   },
   {
    "duration": 23,
    "start_time": "2024-08-06T21:26:44.971Z"
   },
   {
    "duration": 362,
    "start_time": "2024-08-06T21:26:45.000Z"
   },
   {
    "duration": 352,
    "start_time": "2024-08-06T21:26:45.368Z"
   },
   {
    "duration": 381,
    "start_time": "2024-08-06T21:26:45.724Z"
   },
   {
    "duration": 33,
    "start_time": "2024-08-06T21:26:46.109Z"
   },
   {
    "duration": 245,
    "start_time": "2024-08-06T21:26:46.167Z"
   },
   {
    "duration": 317,
    "start_time": "2024-08-06T21:26:46.415Z"
   },
   {
    "duration": 50,
    "start_time": "2024-08-06T21:26:46.735Z"
   },
   {
    "duration": 250,
    "start_time": "2024-08-06T21:26:46.789Z"
   },
   {
    "duration": 294,
    "start_time": "2024-08-06T21:26:47.042Z"
   },
   {
    "duration": 34,
    "start_time": "2024-08-06T21:26:47.340Z"
   },
   {
    "duration": 247,
    "start_time": "2024-08-06T21:26:47.377Z"
   },
   {
    "duration": 9,
    "start_time": "2024-08-06T21:26:47.628Z"
   },
   {
    "duration": 39,
    "start_time": "2024-08-06T21:26:47.641Z"
   },
   {
    "duration": 7,
    "start_time": "2024-08-06T21:27:31.447Z"
   },
   {
    "duration": 4951,
    "start_time": "2024-08-07T02:11:03.403Z"
   },
   {
    "duration": 364,
    "start_time": "2024-08-07T02:11:08.358Z"
   },
   {
    "duration": 91,
    "start_time": "2024-08-07T02:11:08.727Z"
   },
   {
    "duration": 15,
    "start_time": "2024-08-07T02:11:08.821Z"
   },
   {
    "duration": 10,
    "start_time": "2024-08-07T02:11:08.841Z"
   },
   {
    "duration": 12,
    "start_time": "2024-08-07T02:11:08.854Z"
   },
   {
    "duration": 15,
    "start_time": "2024-08-07T02:11:08.908Z"
   },
   {
    "duration": 16,
    "start_time": "2024-08-07T02:11:08.926Z"
   },
   {
    "duration": 18,
    "start_time": "2024-08-07T02:11:08.946Z"
   },
   {
    "duration": 58,
    "start_time": "2024-08-07T02:11:08.968Z"
   },
   {
    "duration": 24,
    "start_time": "2024-08-07T02:11:09.029Z"
   },
   {
    "duration": 7697,
    "start_time": "2024-08-07T02:11:09.056Z"
   },
   {
    "duration": 65,
    "start_time": "2024-08-07T02:11:16.756Z"
   },
   {
    "duration": 34,
    "start_time": "2024-08-07T02:11:16.827Z"
   },
   {
    "duration": 47,
    "start_time": "2024-08-07T02:11:16.865Z"
   },
   {
    "duration": 2354,
    "start_time": "2024-08-07T02:11:16.915Z"
   },
   {
    "duration": 47,
    "start_time": "2024-08-07T02:11:19.272Z"
   },
   {
    "duration": 24,
    "start_time": "2024-08-07T02:11:19.324Z"
   },
   {
    "duration": 22,
    "start_time": "2024-08-07T02:11:19.350Z"
   },
   {
    "duration": 4370,
    "start_time": "2024-08-07T02:11:19.375Z"
   },
   {
    "duration": 56,
    "start_time": "2024-08-07T02:11:23.750Z"
   },
   {
    "duration": 402,
    "start_time": "2024-08-07T02:13:19.349Z"
   },
   {
    "duration": 4,
    "start_time": "2024-08-07T02:13:25.929Z"
   },
   {
    "duration": 284,
    "start_time": "2024-08-07T02:13:25.945Z"
   },
   {
    "duration": 87,
    "start_time": "2024-08-07T02:13:26.232Z"
   },
   {
    "duration": 14,
    "start_time": "2024-08-07T02:13:26.322Z"
   },
   {
    "duration": 10,
    "start_time": "2024-08-07T02:13:26.339Z"
   },
   {
    "duration": 9,
    "start_time": "2024-08-07T02:13:26.356Z"
   },
   {
    "duration": 15,
    "start_time": "2024-08-07T02:13:26.407Z"
   },
   {
    "duration": 12,
    "start_time": "2024-08-07T02:13:26.425Z"
   },
   {
    "duration": 18,
    "start_time": "2024-08-07T02:13:26.440Z"
   },
   {
    "duration": 64,
    "start_time": "2024-08-07T02:13:26.461Z"
   },
   {
    "duration": 25,
    "start_time": "2024-08-07T02:13:26.530Z"
   },
   {
    "duration": 7698,
    "start_time": "2024-08-07T02:13:26.558Z"
   },
   {
    "duration": 64,
    "start_time": "2024-08-07T02:13:34.259Z"
   },
   {
    "duration": 35,
    "start_time": "2024-08-07T02:13:34.327Z"
   },
   {
    "duration": 38,
    "start_time": "2024-08-07T02:13:34.369Z"
   },
   {
    "duration": 2357,
    "start_time": "2024-08-07T02:13:34.410Z"
   },
   {
    "duration": 63,
    "start_time": "2024-08-07T02:13:36.769Z"
   },
   {
    "duration": 25,
    "start_time": "2024-08-07T02:13:36.836Z"
   },
   {
    "duration": 23,
    "start_time": "2024-08-07T02:13:36.864Z"
   },
   {
    "duration": 4470,
    "start_time": "2024-08-07T02:13:36.907Z"
   },
   {
    "duration": 54,
    "start_time": "2024-08-07T02:13:41.382Z"
   },
   {
    "duration": 46,
    "start_time": "2024-08-07T02:13:41.439Z"
   },
   {
    "duration": 21,
    "start_time": "2024-08-07T02:13:41.488Z"
   },
   {
    "duration": 18,
    "start_time": "2024-08-07T02:13:41.512Z"
   },
   {
    "duration": 19,
    "start_time": "2024-08-07T02:13:41.532Z"
   },
   {
    "duration": 58,
    "start_time": "2024-08-07T02:13:41.554Z"
   },
   {
    "duration": 24,
    "start_time": "2024-08-07T02:13:41.615Z"
   },
   {
    "duration": 27,
    "start_time": "2024-08-07T02:19:03.610Z"
   },
   {
    "duration": 26,
    "start_time": "2024-08-07T02:23:00.624Z"
   },
   {
    "duration": 15,
    "start_time": "2024-08-07T02:23:14.989Z"
   },
   {
    "duration": 10,
    "start_time": "2024-08-07T02:24:12.845Z"
   },
   {
    "duration": 35,
    "start_time": "2024-08-07T02:25:12.086Z"
   },
   {
    "duration": 33,
    "start_time": "2024-08-07T02:29:55.594Z"
   },
   {
    "duration": 33,
    "start_time": "2024-08-07T02:31:16.171Z"
   },
   {
    "duration": 4,
    "start_time": "2024-08-07T02:31:24.666Z"
   },
   {
    "duration": 309,
    "start_time": "2024-08-07T02:31:24.674Z"
   },
   {
    "duration": 101,
    "start_time": "2024-08-07T02:31:24.987Z"
   },
   {
    "duration": 26,
    "start_time": "2024-08-07T02:31:25.092Z"
   },
   {
    "duration": 12,
    "start_time": "2024-08-07T02:31:25.121Z"
   },
   {
    "duration": 104,
    "start_time": "2024-08-07T02:31:25.138Z"
   },
   {
    "duration": 15,
    "start_time": "2024-08-07T02:31:25.245Z"
   },
   {
    "duration": 42,
    "start_time": "2024-08-07T02:31:25.263Z"
   },
   {
    "duration": 19,
    "start_time": "2024-08-07T02:31:25.309Z"
   },
   {
    "duration": 25,
    "start_time": "2024-08-07T02:31:25.332Z"
   },
   {
    "duration": 56,
    "start_time": "2024-08-07T02:31:25.360Z"
   },
   {
    "duration": 7643,
    "start_time": "2024-08-07T02:31:25.420Z"
   },
   {
    "duration": 63,
    "start_time": "2024-08-07T02:31:33.066Z"
   },
   {
    "duration": 35,
    "start_time": "2024-08-07T02:31:33.132Z"
   },
   {
    "duration": 39,
    "start_time": "2024-08-07T02:31:33.174Z"
   },
   {
    "duration": 2322,
    "start_time": "2024-08-07T02:31:33.216Z"
   },
   {
    "duration": 35,
    "start_time": "2024-08-07T02:31:35.541Z"
   },
   {
    "duration": 45,
    "start_time": "2024-08-07T02:31:35.579Z"
   },
   {
    "duration": 21,
    "start_time": "2024-08-07T02:31:35.627Z"
   },
   {
    "duration": 4434,
    "start_time": "2024-08-07T02:31:35.651Z"
   },
   {
    "duration": 54,
    "start_time": "2024-08-07T02:31:40.089Z"
   },
   {
    "duration": 64,
    "start_time": "2024-08-07T02:31:40.146Z"
   },
   {
    "duration": 8,
    "start_time": "2024-08-07T02:31:40.213Z"
   },
   {
    "duration": 17,
    "start_time": "2024-08-07T02:31:40.224Z"
   },
   {
    "duration": 17,
    "start_time": "2024-08-07T02:31:40.243Z"
   },
   {
    "duration": 54,
    "start_time": "2024-08-07T02:31:40.263Z"
   },
   {
    "duration": 9,
    "start_time": "2024-08-07T02:31:40.319Z"
   },
   {
    "duration": 35,
    "start_time": "2024-08-07T02:31:40.331Z"
   },
   {
    "duration": 67,
    "start_time": "2024-08-07T02:31:40.370Z"
   },
   {
    "duration": 33,
    "start_time": "2024-08-07T02:31:40.440Z"
   },
   {
    "duration": 634,
    "start_time": "2024-08-07T02:31:40.476Z"
   },
   {
    "duration": 458,
    "start_time": "2024-08-07T02:31:41.113Z"
   },
   {
    "duration": 32,
    "start_time": "2024-08-07T02:31:41.574Z"
   },
   {
    "duration": 273,
    "start_time": "2024-08-07T02:31:41.609Z"
   },
   {
    "duration": 513,
    "start_time": "2024-08-07T02:31:41.885Z"
   },
   {
    "duration": 527,
    "start_time": "2024-08-07T02:32:41.287Z"
   },
   {
    "duration": 611,
    "start_time": "2024-08-07T02:33:04.618Z"
   },
   {
    "duration": 518,
    "start_time": "2024-08-07T02:33:15.610Z"
   },
   {
    "duration": 516,
    "start_time": "2024-08-07T02:33:29.590Z"
   },
   {
    "duration": 514,
    "start_time": "2024-08-07T02:35:21.962Z"
   },
   {
    "duration": 10,
    "start_time": "2024-08-07T02:36:39.771Z"
   },
   {
    "duration": 10,
    "start_time": "2024-08-07T02:39:47.222Z"
   },
   {
    "duration": 1276,
    "start_time": "2024-08-09T17:29:34.795Z"
   },
   {
    "duration": 336,
    "start_time": "2024-08-09T17:29:36.075Z"
   },
   {
    "duration": 88,
    "start_time": "2024-08-09T17:29:36.414Z"
   },
   {
    "duration": 16,
    "start_time": "2024-08-09T17:29:36.516Z"
   },
   {
    "duration": 10,
    "start_time": "2024-08-09T17:29:36.535Z"
   },
   {
    "duration": 10,
    "start_time": "2024-08-09T17:29:36.549Z"
   },
   {
    "duration": 58,
    "start_time": "2024-08-09T17:29:36.563Z"
   },
   {
    "duration": 11,
    "start_time": "2024-08-09T17:29:36.624Z"
   },
   {
    "duration": 19,
    "start_time": "2024-08-09T17:29:36.638Z"
   },
   {
    "duration": 60,
    "start_time": "2024-08-09T17:29:36.662Z"
   },
   {
    "duration": 24,
    "start_time": "2024-08-09T17:29:36.725Z"
   },
   {
    "duration": 7636,
    "start_time": "2024-08-09T17:29:36.752Z"
   },
   {
    "duration": 63,
    "start_time": "2024-08-09T17:29:44.392Z"
   },
   {
    "duration": 55,
    "start_time": "2024-08-09T17:29:44.457Z"
   },
   {
    "duration": 23,
    "start_time": "2024-08-09T17:29:44.515Z"
   },
   {
    "duration": 2325,
    "start_time": "2024-08-09T17:29:44.541Z"
   },
   {
    "duration": 43,
    "start_time": "2024-08-09T17:29:46.872Z"
   },
   {
    "duration": 24,
    "start_time": "2024-08-09T17:29:46.918Z"
   },
   {
    "duration": 22,
    "start_time": "2024-08-09T17:29:46.946Z"
   },
   {
    "duration": 4364,
    "start_time": "2024-08-09T17:29:46.970Z"
   },
   {
    "duration": 45,
    "start_time": "2024-08-09T17:29:51.338Z"
   },
   {
    "duration": 63,
    "start_time": "2024-08-09T17:29:51.386Z"
   },
   {
    "duration": 7,
    "start_time": "2024-08-09T17:29:51.452Z"
   },
   {
    "duration": 50,
    "start_time": "2024-08-09T17:29:51.462Z"
   },
   {
    "duration": 22,
    "start_time": "2024-08-09T17:29:51.518Z"
   },
   {
    "duration": 15,
    "start_time": "2024-08-09T17:29:51.544Z"
   },
   {
    "duration": 493,
    "start_time": "2024-08-09T17:29:51.562Z"
   },
   {
    "duration": 0,
    "start_time": "2024-08-09T17:29:52.060Z"
   },
   {
    "duration": 0,
    "start_time": "2024-08-09T17:29:52.063Z"
   },
   {
    "duration": 0,
    "start_time": "2024-08-09T17:29:52.066Z"
   },
   {
    "duration": 0,
    "start_time": "2024-08-09T17:29:52.069Z"
   },
   {
    "duration": 0,
    "start_time": "2024-08-09T17:29:52.071Z"
   },
   {
    "duration": 0,
    "start_time": "2024-08-09T17:29:52.073Z"
   },
   {
    "duration": 0,
    "start_time": "2024-08-09T17:29:52.075Z"
   },
   {
    "duration": 0,
    "start_time": "2024-08-09T17:29:52.078Z"
   },
   {
    "duration": 0,
    "start_time": "2024-08-09T17:29:52.080Z"
   },
   {
    "duration": 0,
    "start_time": "2024-08-09T17:29:52.113Z"
   },
   {
    "duration": 0,
    "start_time": "2024-08-09T17:29:52.117Z"
   },
   {
    "duration": 0,
    "start_time": "2024-08-09T17:29:52.120Z"
   },
   {
    "duration": 0,
    "start_time": "2024-08-09T17:29:52.122Z"
   },
   {
    "duration": 0,
    "start_time": "2024-08-09T17:29:52.125Z"
   },
   {
    "duration": 0,
    "start_time": "2024-08-09T17:29:52.127Z"
   },
   {
    "duration": 0,
    "start_time": "2024-08-09T17:29:52.130Z"
   },
   {
    "duration": 0,
    "start_time": "2024-08-09T17:29:52.133Z"
   },
   {
    "duration": 0,
    "start_time": "2024-08-09T17:29:52.136Z"
   },
   {
    "duration": 0,
    "start_time": "2024-08-09T17:29:52.138Z"
   },
   {
    "duration": 4940,
    "start_time": "2024-08-09T18:05:27.763Z"
   },
   {
    "duration": 354,
    "start_time": "2024-08-09T18:05:32.706Z"
   },
   {
    "duration": 88,
    "start_time": "2024-08-09T18:05:33.063Z"
   },
   {
    "duration": 14,
    "start_time": "2024-08-09T18:05:33.155Z"
   },
   {
    "duration": 9,
    "start_time": "2024-08-09T18:05:33.173Z"
   },
   {
    "duration": 12,
    "start_time": "2024-08-09T18:05:33.186Z"
   },
   {
    "duration": 13,
    "start_time": "2024-08-09T18:05:33.236Z"
   },
   {
    "duration": 12,
    "start_time": "2024-08-09T18:05:33.252Z"
   },
   {
    "duration": 19,
    "start_time": "2024-08-09T18:05:33.267Z"
   },
   {
    "duration": 63,
    "start_time": "2024-08-09T18:05:33.292Z"
   },
   {
    "duration": 25,
    "start_time": "2024-08-09T18:05:33.357Z"
   },
   {
    "duration": 7583,
    "start_time": "2024-08-09T18:05:33.385Z"
   },
   {
    "duration": 64,
    "start_time": "2024-08-09T18:05:40.971Z"
   },
   {
    "duration": 35,
    "start_time": "2024-08-09T18:05:41.038Z"
   },
   {
    "duration": 19,
    "start_time": "2024-08-09T18:05:41.076Z"
   },
   {
    "duration": 2374,
    "start_time": "2024-08-09T18:05:41.098Z"
   },
   {
    "duration": 34,
    "start_time": "2024-08-09T18:05:43.475Z"
   },
   {
    "duration": 41,
    "start_time": "2024-08-09T18:05:43.512Z"
   },
   {
    "duration": 22,
    "start_time": "2024-08-09T18:05:43.555Z"
   },
   {
    "duration": 4418,
    "start_time": "2024-08-09T18:05:43.580Z"
   },
   {
    "duration": 51,
    "start_time": "2024-08-09T18:05:48.001Z"
   },
   {
    "duration": 44,
    "start_time": "2024-08-09T18:05:48.057Z"
   },
   {
    "duration": 8,
    "start_time": "2024-08-09T18:05:48.103Z"
   },
   {
    "duration": 19,
    "start_time": "2024-08-09T18:05:48.135Z"
   },
   {
    "duration": 21,
    "start_time": "2024-08-09T18:05:48.157Z"
   },
   {
    "duration": 14,
    "start_time": "2024-08-09T18:05:48.180Z"
   },
   {
    "duration": 403,
    "start_time": "2024-08-09T18:06:12.371Z"
   },
   {
    "duration": 24,
    "start_time": "2024-08-09T18:06:48.260Z"
   },
   {
    "duration": 25,
    "start_time": "2024-08-09T18:08:12.413Z"
   },
   {
    "duration": 4,
    "start_time": "2024-08-09T18:12:01.226Z"
   },
   {
    "duration": 305,
    "start_time": "2024-08-09T18:12:01.235Z"
   },
   {
    "duration": 99,
    "start_time": "2024-08-09T18:12:01.545Z"
   },
   {
    "duration": 15,
    "start_time": "2024-08-09T18:12:01.647Z"
   },
   {
    "duration": 9,
    "start_time": "2024-08-09T18:12:01.667Z"
   },
   {
    "duration": 11,
    "start_time": "2024-08-09T18:12:01.680Z"
   },
   {
    "duration": 17,
    "start_time": "2024-08-09T18:12:01.733Z"
   },
   {
    "duration": 11,
    "start_time": "2024-08-09T18:12:01.757Z"
   },
   {
    "duration": 19,
    "start_time": "2024-08-09T18:12:01.772Z"
   },
   {
    "duration": 61,
    "start_time": "2024-08-09T18:12:01.794Z"
   },
   {
    "duration": 24,
    "start_time": "2024-08-09T18:12:01.862Z"
   },
   {
    "duration": 7693,
    "start_time": "2024-08-09T18:12:01.889Z"
   },
   {
    "duration": 65,
    "start_time": "2024-08-09T18:12:09.586Z"
   },
   {
    "duration": 34,
    "start_time": "2024-08-09T18:12:09.657Z"
   },
   {
    "duration": 40,
    "start_time": "2024-08-09T18:12:09.695Z"
   },
   {
    "duration": 2299,
    "start_time": "2024-08-09T18:12:09.738Z"
   },
   {
    "duration": 35,
    "start_time": "2024-08-09T18:12:12.041Z"
   },
   {
    "duration": 25,
    "start_time": "2024-08-09T18:12:12.079Z"
   },
   {
    "duration": 25,
    "start_time": "2024-08-09T18:12:12.134Z"
   },
   {
    "duration": 4404,
    "start_time": "2024-08-09T18:12:12.162Z"
   },
   {
    "duration": 43,
    "start_time": "2024-08-09T18:12:16.568Z"
   },
   {
    "duration": 62,
    "start_time": "2024-08-09T18:12:16.613Z"
   },
   {
    "duration": 7,
    "start_time": "2024-08-09T18:12:16.679Z"
   },
   {
    "duration": 45,
    "start_time": "2024-08-09T18:12:16.689Z"
   },
   {
    "duration": 20,
    "start_time": "2024-08-09T18:12:16.738Z"
   },
   {
    "duration": 13,
    "start_time": "2024-08-09T18:12:16.761Z"
   },
   {
    "duration": 58,
    "start_time": "2024-08-09T18:12:16.777Z"
   },
   {
    "duration": 0,
    "start_time": "2024-08-09T18:12:16.841Z"
   },
   {
    "duration": 0,
    "start_time": "2024-08-09T18:12:16.843Z"
   },
   {
    "duration": 0,
    "start_time": "2024-08-09T18:12:16.846Z"
   },
   {
    "duration": 0,
    "start_time": "2024-08-09T18:12:16.848Z"
   },
   {
    "duration": 0,
    "start_time": "2024-08-09T18:12:16.850Z"
   },
   {
    "duration": 0,
    "start_time": "2024-08-09T18:12:16.853Z"
   },
   {
    "duration": 0,
    "start_time": "2024-08-09T18:12:16.855Z"
   },
   {
    "duration": 0,
    "start_time": "2024-08-09T18:12:16.857Z"
   },
   {
    "duration": 0,
    "start_time": "2024-08-09T18:12:16.860Z"
   },
   {
    "duration": 0,
    "start_time": "2024-08-09T18:12:16.862Z"
   },
   {
    "duration": 0,
    "start_time": "2024-08-09T18:12:16.864Z"
   },
   {
    "duration": 0,
    "start_time": "2024-08-09T18:12:16.866Z"
   },
   {
    "duration": 0,
    "start_time": "2024-08-09T18:12:16.868Z"
   },
   {
    "duration": 0,
    "start_time": "2024-08-09T18:12:16.871Z"
   },
   {
    "duration": 0,
    "start_time": "2024-08-09T18:12:16.873Z"
   },
   {
    "duration": 0,
    "start_time": "2024-08-09T18:12:16.875Z"
   },
   {
    "duration": 0,
    "start_time": "2024-08-09T18:12:16.879Z"
   },
   {
    "duration": 0,
    "start_time": "2024-08-09T18:12:16.935Z"
   },
   {
    "duration": 0,
    "start_time": "2024-08-09T18:12:16.936Z"
   },
   {
    "duration": 100,
    "start_time": "2024-08-09T18:12:39.790Z"
   },
   {
    "duration": 29,
    "start_time": "2024-08-09T18:12:54.917Z"
   },
   {
    "duration": 4,
    "start_time": "2024-08-09T18:13:01.847Z"
   },
   {
    "duration": 286,
    "start_time": "2024-08-09T18:13:01.856Z"
   },
   {
    "duration": 94,
    "start_time": "2024-08-09T18:13:02.146Z"
   },
   {
    "duration": 17,
    "start_time": "2024-08-09T18:13:02.243Z"
   },
   {
    "duration": 9,
    "start_time": "2024-08-09T18:13:02.264Z"
   },
   {
    "duration": 12,
    "start_time": "2024-08-09T18:13:02.276Z"
   },
   {
    "duration": 47,
    "start_time": "2024-08-09T18:13:02.291Z"
   },
   {
    "duration": 11,
    "start_time": "2024-08-09T18:13:02.342Z"
   },
   {
    "duration": 17,
    "start_time": "2024-08-09T18:13:02.359Z"
   },
   {
    "duration": 59,
    "start_time": "2024-08-09T18:13:02.380Z"
   },
   {
    "duration": 34,
    "start_time": "2024-08-09T18:13:02.446Z"
   },
   {
    "duration": 7643,
    "start_time": "2024-08-09T18:13:02.484Z"
   },
   {
    "duration": 51,
    "start_time": "2024-08-09T18:13:10.135Z"
   },
   {
    "duration": 58,
    "start_time": "2024-08-09T18:13:10.188Z"
   },
   {
    "duration": 20,
    "start_time": "2024-08-09T18:13:10.249Z"
   },
   {
    "duration": 2331,
    "start_time": "2024-08-09T18:13:10.271Z"
   },
   {
    "duration": 50,
    "start_time": "2024-08-09T18:13:12.605Z"
   },
   {
    "duration": 24,
    "start_time": "2024-08-09T18:13:12.658Z"
   },
   {
    "duration": 47,
    "start_time": "2024-08-09T18:13:12.686Z"
   },
   {
    "duration": 4445,
    "start_time": "2024-08-09T18:13:12.736Z"
   },
   {
    "duration": 68,
    "start_time": "2024-08-09T18:13:17.184Z"
   },
   {
    "duration": 46,
    "start_time": "2024-08-09T18:13:17.256Z"
   },
   {
    "duration": 7,
    "start_time": "2024-08-09T18:13:17.305Z"
   },
   {
    "duration": 17,
    "start_time": "2024-08-09T18:13:17.335Z"
   },
   {
    "duration": 18,
    "start_time": "2024-08-09T18:13:17.355Z"
   },
   {
    "duration": 15,
    "start_time": "2024-08-09T18:13:17.376Z"
   },
   {
    "duration": 26,
    "start_time": "2024-08-09T18:13:17.434Z"
   },
   {
    "duration": 0,
    "start_time": "2024-08-09T18:13:17.464Z"
   },
   {
    "duration": 0,
    "start_time": "2024-08-09T18:13:17.466Z"
   },
   {
    "duration": 33,
    "start_time": "2024-08-09T18:16:00.334Z"
   },
   {
    "duration": 34,
    "start_time": "2024-08-09T18:16:09.742Z"
   },
   {
    "duration": 35,
    "start_time": "2024-08-09T18:16:13.908Z"
   },
   {
    "duration": 32,
    "start_time": "2024-08-09T18:16:21.593Z"
   },
   {
    "duration": 598,
    "start_time": "2024-08-09T18:16:27.330Z"
   },
   {
    "duration": 453,
    "start_time": "2024-08-09T18:17:16.977Z"
   },
   {
    "duration": 19,
    "start_time": "2024-08-09T18:17:34.728Z"
   },
   {
    "duration": 255,
    "start_time": "2024-08-09T18:17:44.290Z"
   },
   {
    "duration": 490,
    "start_time": "2024-08-09T18:18:13.157Z"
   },
   {
    "duration": 522,
    "start_time": "2024-08-09T18:18:18.312Z"
   },
   {
    "duration": 599,
    "start_time": "2024-08-09T18:20:15.597Z"
   },
   {
    "duration": 516,
    "start_time": "2024-08-09T18:20:35.091Z"
   },
   {
    "duration": 521,
    "start_time": "2024-08-09T18:21:06.091Z"
   },
   {
    "duration": 501,
    "start_time": "2024-08-09T18:21:16.091Z"
   },
   {
    "duration": 594,
    "start_time": "2024-08-09T18:22:04.217Z"
   },
   {
    "duration": 793,
    "start_time": "2024-08-09T18:22:38.447Z"
   },
   {
    "duration": 257,
    "start_time": "2024-08-09T18:22:47.636Z"
   },
   {
    "duration": 520,
    "start_time": "2024-08-09T18:28:59.548Z"
   },
   {
    "duration": 519,
    "start_time": "2024-08-09T18:29:33.919Z"
   },
   {
    "duration": 29,
    "start_time": "2024-08-09T18:29:54.875Z"
   },
   {
    "duration": 223,
    "start_time": "2024-08-09T18:30:00.401Z"
   },
   {
    "duration": 388,
    "start_time": "2024-08-09T18:30:05.271Z"
   },
   {
    "duration": 30,
    "start_time": "2024-08-09T18:30:14.327Z"
   },
   {
    "duration": 244,
    "start_time": "2024-08-09T18:30:18.509Z"
   },
   {
    "duration": 276,
    "start_time": "2024-08-09T18:30:23.671Z"
   },
   {
    "duration": 16,
    "start_time": "2024-08-09T18:30:29.830Z"
   },
   {
    "duration": 225,
    "start_time": "2024-08-09T18:30:34.415Z"
   },
   {
    "duration": 12,
    "start_time": "2024-08-09T18:40:30.860Z"
   },
   {
    "duration": 12,
    "start_time": "2024-08-09T18:44:20.568Z"
   },
   {
    "duration": 933,
    "start_time": "2024-08-09T18:52:06.089Z"
   },
   {
    "duration": 5,
    "start_time": "2024-08-09T18:52:43.592Z"
   },
   {
    "duration": 337,
    "start_time": "2024-08-09T18:52:43.602Z"
   },
   {
    "duration": 91,
    "start_time": "2024-08-09T18:52:43.943Z"
   },
   {
    "duration": 15,
    "start_time": "2024-08-09T18:52:44.037Z"
   },
   {
    "duration": 9,
    "start_time": "2024-08-09T18:52:44.059Z"
   },
   {
    "duration": 10,
    "start_time": "2024-08-09T18:52:44.073Z"
   },
   {
    "duration": 55,
    "start_time": "2024-08-09T18:52:44.086Z"
   },
   {
    "duration": 11,
    "start_time": "2024-08-09T18:52:44.144Z"
   },
   {
    "duration": 20,
    "start_time": "2024-08-09T18:52:44.158Z"
   },
   {
    "duration": 61,
    "start_time": "2024-08-09T18:52:44.181Z"
   },
   {
    "duration": 25,
    "start_time": "2024-08-09T18:52:44.247Z"
   },
   {
    "duration": 7663,
    "start_time": "2024-08-09T18:52:44.276Z"
   },
   {
    "duration": 50,
    "start_time": "2024-08-09T18:52:51.945Z"
   },
   {
    "duration": 55,
    "start_time": "2024-08-09T18:52:51.999Z"
   },
   {
    "duration": 19,
    "start_time": "2024-08-09T18:52:52.062Z"
   },
   {
    "duration": 2377,
    "start_time": "2024-08-09T18:52:52.085Z"
   },
   {
    "duration": 42,
    "start_time": "2024-08-09T18:52:54.466Z"
   },
   {
    "duration": 45,
    "start_time": "2024-08-09T18:52:54.511Z"
   },
   {
    "duration": 27,
    "start_time": "2024-08-09T18:52:54.559Z"
   },
   {
    "duration": 4520,
    "start_time": "2024-08-09T18:52:54.589Z"
   },
   {
    "duration": 53,
    "start_time": "2024-08-09T18:52:59.116Z"
   },
   {
    "duration": 43,
    "start_time": "2024-08-09T18:52:59.175Z"
   },
   {
    "duration": 16,
    "start_time": "2024-08-09T18:52:59.220Z"
   },
   {
    "duration": 16,
    "start_time": "2024-08-09T18:52:59.239Z"
   },
   {
    "duration": 19,
    "start_time": "2024-08-09T18:52:59.258Z"
   },
   {
    "duration": 56,
    "start_time": "2024-08-09T18:52:59.280Z"
   },
   {
    "duration": 26,
    "start_time": "2024-08-09T18:52:59.340Z"
   },
   {
    "duration": 38,
    "start_time": "2024-08-09T18:52:59.369Z"
   },
   {
    "duration": 41,
    "start_time": "2024-08-09T18:52:59.435Z"
   },
   {
    "duration": 55,
    "start_time": "2024-08-09T18:52:59.479Z"
   },
   {
    "duration": 622,
    "start_time": "2024-08-09T18:52:59.538Z"
   },
   {
    "duration": 484,
    "start_time": "2024-08-09T18:53:00.162Z"
   },
   {
    "duration": 22,
    "start_time": "2024-08-09T18:53:00.650Z"
   },
   {
    "duration": 304,
    "start_time": "2024-08-09T18:53:00.675Z"
   },
   {
    "duration": 539,
    "start_time": "2024-08-09T18:53:00.983Z"
   },
   {
    "duration": 651,
    "start_time": "2024-08-09T18:53:01.524Z"
   },
   {
    "duration": 34,
    "start_time": "2024-08-09T18:53:02.179Z"
   },
   {
    "duration": 261,
    "start_time": "2024-08-09T18:53:02.236Z"
   },
   {
    "duration": 303,
    "start_time": "2024-08-09T18:53:02.502Z"
   },
   {
    "duration": 42,
    "start_time": "2024-08-09T18:53:02.810Z"
   },
   {
    "duration": 259,
    "start_time": "2024-08-09T18:53:02.855Z"
   },
   {
    "duration": 293,
    "start_time": "2024-08-09T18:53:03.123Z"
   },
   {
    "duration": 24,
    "start_time": "2024-08-09T18:53:03.422Z"
   },
   {
    "duration": 252,
    "start_time": "2024-08-09T18:53:03.450Z"
   },
   {
    "duration": 28,
    "start_time": "2024-08-09T18:53:03.706Z"
   },
   {
    "duration": 104,
    "start_time": "2024-08-09T18:53:03.737Z"
   },
   {
    "duration": 21,
    "start_time": "2024-08-09T18:53:13.952Z"
   },
   {
    "duration": 307,
    "start_time": "2024-08-10T13:16:38.064Z"
   },
   {
    "duration": 4867,
    "start_time": "2024-08-10T13:16:52.947Z"
   },
   {
    "duration": 377,
    "start_time": "2024-08-10T13:16:57.817Z"
   },
   {
    "duration": 91,
    "start_time": "2024-08-10T13:16:58.197Z"
   },
   {
    "duration": 14,
    "start_time": "2024-08-10T13:16:58.291Z"
   },
   {
    "duration": 11,
    "start_time": "2024-08-10T13:16:58.328Z"
   },
   {
    "duration": 11,
    "start_time": "2024-08-10T13:16:58.342Z"
   },
   {
    "duration": 14,
    "start_time": "2024-08-10T13:16:58.356Z"
   },
   {
    "duration": 10,
    "start_time": "2024-08-10T13:16:58.373Z"
   },
   {
    "duration": 59,
    "start_time": "2024-08-10T13:16:58.386Z"
   },
   {
    "duration": 24,
    "start_time": "2024-08-10T13:16:58.448Z"
   },
   {
    "duration": 62,
    "start_time": "2024-08-10T13:16:58.476Z"
   },
   {
    "duration": 7537,
    "start_time": "2024-08-10T13:16:58.541Z"
   },
   {
    "duration": 65,
    "start_time": "2024-08-10T13:17:06.081Z"
   },
   {
    "duration": 35,
    "start_time": "2024-08-10T13:17:06.153Z"
   },
   {
    "duration": 42,
    "start_time": "2024-08-10T13:17:06.191Z"
   },
   {
    "duration": 2321,
    "start_time": "2024-08-10T13:17:06.236Z"
   },
   {
    "duration": 35,
    "start_time": "2024-08-10T13:17:08.561Z"
   },
   {
    "duration": 44,
    "start_time": "2024-08-10T13:17:08.599Z"
   },
   {
    "duration": 25,
    "start_time": "2024-08-10T13:17:08.647Z"
   },
   {
    "duration": 4370,
    "start_time": "2024-08-10T13:17:08.678Z"
   },
   {
    "duration": 44,
    "start_time": "2024-08-10T13:17:13.051Z"
   },
   {
    "duration": 65,
    "start_time": "2024-08-10T13:17:13.098Z"
   },
   {
    "duration": 8,
    "start_time": "2024-08-10T13:17:13.166Z"
   },
   {
    "duration": 20,
    "start_time": "2024-08-10T13:17:13.176Z"
   },
   {
    "duration": 22,
    "start_time": "2024-08-10T13:17:13.227Z"
   },
   {
    "duration": 14,
    "start_time": "2024-08-10T13:17:13.251Z"
   },
   {
    "duration": 62,
    "start_time": "2024-08-10T13:17:13.270Z"
   },
   {
    "duration": 34,
    "start_time": "2024-08-10T13:17:13.335Z"
   },
   {
    "duration": 64,
    "start_time": "2024-08-10T13:17:13.372Z"
   },
   {
    "duration": 28,
    "start_time": "2024-08-10T13:17:13.440Z"
   },
   {
    "duration": 624,
    "start_time": "2024-08-10T13:17:13.471Z"
   },
   {
    "duration": 445,
    "start_time": "2024-08-10T13:17:14.098Z"
   },
   {
    "duration": 19,
    "start_time": "2024-08-10T13:17:14.547Z"
   },
   {
    "duration": 364,
    "start_time": "2024-08-10T13:17:14.569Z"
   },
   {
    "duration": 494,
    "start_time": "2024-08-10T13:17:14.936Z"
   },
   {
    "duration": 516,
    "start_time": "2024-08-10T13:17:15.433Z"
   },
   {
    "duration": 31,
    "start_time": "2024-08-10T13:17:15.953Z"
   },
   {
    "duration": 251,
    "start_time": "2024-08-10T13:17:15.987Z"
   },
   {
    "duration": 303,
    "start_time": "2024-08-10T13:17:16.241Z"
   },
   {
    "duration": 31,
    "start_time": "2024-08-10T13:17:16.547Z"
   },
   {
    "duration": 263,
    "start_time": "2024-08-10T13:17:16.586Z"
   },
   {
    "duration": 296,
    "start_time": "2024-08-10T13:17:16.852Z"
   },
   {
    "duration": 19,
    "start_time": "2024-08-10T13:17:17.151Z"
   },
   {
    "duration": 255,
    "start_time": "2024-08-10T13:17:17.173Z"
   },
   {
    "duration": 14,
    "start_time": "2024-08-10T13:17:17.431Z"
   },
   {
    "duration": 7,
    "start_time": "2024-08-10T13:17:17.448Z"
   },
   {
    "duration": 16,
    "start_time": "2024-08-10T13:23:11.769Z"
   },
   {
    "duration": 15,
    "start_time": "2024-08-10T13:23:58.036Z"
   },
   {
    "duration": 14,
    "start_time": "2024-08-10T13:24:34.096Z"
   },
   {
    "duration": 14,
    "start_time": "2024-08-10T13:25:35.183Z"
   },
   {
    "duration": 14,
    "start_time": "2024-08-10T13:26:15.637Z"
   },
   {
    "duration": 16,
    "start_time": "2024-08-10T13:31:32.821Z"
   },
   {
    "duration": 434,
    "start_time": "2024-08-10T13:35:48.319Z"
   },
   {
    "duration": 68,
    "start_time": "2024-08-10T13:36:02.248Z"
   },
   {
    "duration": 68,
    "start_time": "2024-08-10T13:36:55.792Z"
   },
   {
    "duration": 3,
    "start_time": "2024-08-10T13:37:04.526Z"
   },
   {
    "duration": 308,
    "start_time": "2024-08-10T13:37:04.534Z"
   },
   {
    "duration": 92,
    "start_time": "2024-08-10T13:37:04.845Z"
   },
   {
    "duration": 14,
    "start_time": "2024-08-10T13:37:04.940Z"
   },
   {
    "duration": 9,
    "start_time": "2024-08-10T13:37:04.959Z"
   },
   {
    "duration": 10,
    "start_time": "2024-08-10T13:37:04.971Z"
   },
   {
    "duration": 54,
    "start_time": "2024-08-10T13:37:04.984Z"
   },
   {
    "duration": 11,
    "start_time": "2024-08-10T13:37:05.041Z"
   },
   {
    "duration": 19,
    "start_time": "2024-08-10T13:37:05.055Z"
   },
   {
    "duration": 65,
    "start_time": "2024-08-10T13:37:05.077Z"
   },
   {
    "duration": 25,
    "start_time": "2024-08-10T13:37:05.147Z"
   },
   {
    "duration": 7760,
    "start_time": "2024-08-10T13:37:05.175Z"
   },
   {
    "duration": 51,
    "start_time": "2024-08-10T13:37:12.938Z"
   },
   {
    "duration": 56,
    "start_time": "2024-08-10T13:37:12.992Z"
   },
   {
    "duration": 20,
    "start_time": "2024-08-10T13:37:13.051Z"
   },
   {
    "duration": 2353,
    "start_time": "2024-08-10T13:37:13.074Z"
   },
   {
    "duration": 35,
    "start_time": "2024-08-10T13:37:15.431Z"
   },
   {
    "duration": 24,
    "start_time": "2024-08-10T13:37:15.469Z"
   },
   {
    "duration": 21,
    "start_time": "2024-08-10T13:37:15.527Z"
   },
   {
    "duration": 4397,
    "start_time": "2024-08-10T13:37:15.552Z"
   },
   {
    "duration": 43,
    "start_time": "2024-08-10T13:37:19.952Z"
   },
   {
    "duration": 63,
    "start_time": "2024-08-10T13:37:19.998Z"
   },
   {
    "duration": 7,
    "start_time": "2024-08-10T13:37:20.064Z"
   },
   {
    "duration": 17,
    "start_time": "2024-08-10T13:37:20.075Z"
   },
   {
    "duration": 16,
    "start_time": "2024-08-10T13:37:20.126Z"
   },
   {
    "duration": 12,
    "start_time": "2024-08-10T13:37:20.145Z"
   },
   {
    "duration": 29,
    "start_time": "2024-08-10T13:37:20.160Z"
   },
   {
    "duration": 67,
    "start_time": "2024-08-10T13:37:20.192Z"
   },
   {
    "duration": 60,
    "start_time": "2024-08-10T13:37:20.266Z"
   },
   {
    "duration": 28,
    "start_time": "2024-08-10T13:37:20.329Z"
   },
   {
    "duration": 599,
    "start_time": "2024-08-10T13:37:20.359Z"
   },
   {
    "duration": 439,
    "start_time": "2024-08-10T13:37:20.961Z"
   },
   {
    "duration": 32,
    "start_time": "2024-08-10T13:37:21.403Z"
   },
   {
    "duration": 266,
    "start_time": "2024-08-10T13:37:21.438Z"
   },
   {
    "duration": 497,
    "start_time": "2024-08-10T13:37:21.707Z"
   },
   {
    "duration": 601,
    "start_time": "2024-08-10T13:37:22.207Z"
   },
   {
    "duration": 40,
    "start_time": "2024-08-10T13:37:22.810Z"
   },
   {
    "duration": 245,
    "start_time": "2024-08-10T13:37:22.853Z"
   },
   {
    "duration": 295,
    "start_time": "2024-08-10T13:37:23.101Z"
   },
   {
    "duration": 45,
    "start_time": "2024-08-10T13:37:23.399Z"
   },
   {
    "duration": 247,
    "start_time": "2024-08-10T13:37:23.447Z"
   },
   {
    "duration": 283,
    "start_time": "2024-08-10T13:37:23.697Z"
   },
   {
    "duration": 18,
    "start_time": "2024-08-10T13:37:23.983Z"
   },
   {
    "duration": 234,
    "start_time": "2024-08-10T13:37:24.027Z"
   },
   {
    "duration": 16,
    "start_time": "2024-08-10T13:37:24.264Z"
   },
   {
    "duration": 43,
    "start_time": "2024-08-10T13:37:24.284Z"
   },
   {
    "duration": 14,
    "start_time": "2024-08-10T13:40:14.067Z"
   },
   {
    "duration": 1207,
    "start_time": "2024-08-12T00:59:47.282Z"
   },
   {
    "duration": 303,
    "start_time": "2024-08-12T00:59:48.492Z"
   },
   {
    "duration": 97,
    "start_time": "2024-08-12T00:59:48.798Z"
   },
   {
    "duration": 16,
    "start_time": "2024-08-12T00:59:48.899Z"
   },
   {
    "duration": 25,
    "start_time": "2024-08-12T00:59:48.918Z"
   },
   {
    "duration": 12,
    "start_time": "2024-08-12T00:59:48.950Z"
   },
   {
    "duration": 19,
    "start_time": "2024-08-12T00:59:48.966Z"
   },
   {
    "duration": 50,
    "start_time": "2024-08-12T00:59:48.988Z"
   },
   {
    "duration": 22,
    "start_time": "2024-08-12T00:59:49.041Z"
   },
   {
    "duration": 25,
    "start_time": "2024-08-12T00:59:49.072Z"
   },
   {
    "duration": 61,
    "start_time": "2024-08-12T00:59:49.103Z"
   },
   {
    "duration": 7668,
    "start_time": "2024-08-12T00:59:49.167Z"
   },
   {
    "duration": 53,
    "start_time": "2024-08-12T00:59:56.843Z"
   },
   {
    "duration": 60,
    "start_time": "2024-08-12T00:59:56.899Z"
   },
   {
    "duration": 20,
    "start_time": "2024-08-12T00:59:56.962Z"
   },
   {
    "duration": 2395,
    "start_time": "2024-08-12T00:59:56.985Z"
   },
   {
    "duration": 52,
    "start_time": "2024-08-12T00:59:59.384Z"
   },
   {
    "duration": 25,
    "start_time": "2024-08-12T00:59:59.441Z"
   },
   {
    "duration": 28,
    "start_time": "2024-08-12T00:59:59.470Z"
   },
   {
    "duration": 4435,
    "start_time": "2024-08-12T00:59:59.500Z"
   },
   {
    "duration": 43,
    "start_time": "2024-08-12T01:00:03.938Z"
   },
   {
    "duration": 68,
    "start_time": "2024-08-12T01:00:03.984Z"
   },
   {
    "duration": 8,
    "start_time": "2024-08-12T01:00:04.055Z"
   },
   {
    "duration": 20,
    "start_time": "2024-08-12T01:00:04.067Z"
   },
   {
    "duration": 54,
    "start_time": "2024-08-12T01:00:04.090Z"
   },
   {
    "duration": 17,
    "start_time": "2024-08-12T01:00:04.148Z"
   },
   {
    "duration": 28,
    "start_time": "2024-08-12T01:00:04.168Z"
   },
   {
    "duration": 37,
    "start_time": "2024-08-12T01:00:04.237Z"
   },
   {
    "duration": 58,
    "start_time": "2024-08-12T01:00:04.276Z"
   },
   {
    "duration": 27,
    "start_time": "2024-08-12T01:00:04.337Z"
   },
   {
    "duration": 683,
    "start_time": "2024-08-12T01:00:04.368Z"
   },
   {
    "duration": 463,
    "start_time": "2024-08-12T01:00:05.054Z"
   },
   {
    "duration": 31,
    "start_time": "2024-08-12T01:00:05.520Z"
   },
   {
    "duration": 270,
    "start_time": "2024-08-12T01:00:05.554Z"
   },
   {
    "duration": 532,
    "start_time": "2024-08-12T01:00:05.834Z"
   },
   {
    "duration": 525,
    "start_time": "2024-08-12T01:00:06.369Z"
   },
   {
    "duration": 48,
    "start_time": "2024-08-12T01:00:06.897Z"
   },
   {
    "duration": 241,
    "start_time": "2024-08-12T01:00:06.948Z"
   },
   {
    "duration": 302,
    "start_time": "2024-08-12T01:00:07.192Z"
   },
   {
    "duration": 43,
    "start_time": "2024-08-12T01:00:07.497Z"
   },
   {
    "duration": 252,
    "start_time": "2024-08-12T01:00:07.543Z"
   },
   {
    "duration": 375,
    "start_time": "2024-08-12T01:00:07.798Z"
   },
   {
    "duration": 17,
    "start_time": "2024-08-12T01:00:08.176Z"
   },
   {
    "duration": 249,
    "start_time": "2024-08-12T01:00:08.195Z"
   },
   {
    "duration": 15,
    "start_time": "2024-08-12T01:00:08.447Z"
   },
   {
    "duration": 15,
    "start_time": "2024-08-12T01:00:08.465Z"
   },
   {
    "duration": 336,
    "start_time": "2024-08-12T13:17:22.117Z"
   },
   {
    "duration": 4894,
    "start_time": "2024-08-12T13:17:28.040Z"
   },
   {
    "duration": 345,
    "start_time": "2024-08-12T13:17:32.941Z"
   },
   {
    "duration": 87,
    "start_time": "2024-08-12T13:17:33.289Z"
   },
   {
    "duration": 13,
    "start_time": "2024-08-12T13:17:33.381Z"
   },
   {
    "duration": 9,
    "start_time": "2024-08-12T13:17:33.397Z"
   },
   {
    "duration": 10,
    "start_time": "2024-08-12T13:17:33.432Z"
   },
   {
    "duration": 16,
    "start_time": "2024-08-12T13:17:33.445Z"
   },
   {
    "duration": 10,
    "start_time": "2024-08-12T13:17:33.464Z"
   },
   {
    "duration": 62,
    "start_time": "2024-08-12T13:17:33.477Z"
   },
   {
    "duration": 24,
    "start_time": "2024-08-12T13:17:33.545Z"
   },
   {
    "duration": 26,
    "start_time": "2024-08-12T13:17:33.571Z"
   },
   {
    "duration": 7543,
    "start_time": "2024-08-12T13:17:33.601Z"
   },
   {
    "duration": 52,
    "start_time": "2024-08-12T13:17:41.147Z"
   },
   {
    "duration": 54,
    "start_time": "2024-08-12T13:17:41.202Z"
   },
   {
    "duration": 22,
    "start_time": "2024-08-12T13:17:41.259Z"
   },
   {
    "duration": 2372,
    "start_time": "2024-08-12T13:17:41.285Z"
   },
   {
    "duration": 34,
    "start_time": "2024-08-12T13:17:43.659Z"
   },
   {
    "duration": 49,
    "start_time": "2024-08-12T13:17:43.695Z"
   },
   {
    "duration": 22,
    "start_time": "2024-08-12T13:17:43.747Z"
   },
   {
    "duration": 4338,
    "start_time": "2024-08-12T13:17:43.773Z"
   },
   {
    "duration": 51,
    "start_time": "2024-08-12T13:17:48.114Z"
   },
   {
    "duration": 62,
    "start_time": "2024-08-12T13:17:48.168Z"
   },
   {
    "duration": 7,
    "start_time": "2024-08-12T13:17:48.233Z"
   },
   {
    "duration": 20,
    "start_time": "2024-08-12T13:17:48.243Z"
   },
   {
    "duration": 21,
    "start_time": "2024-08-12T13:17:48.265Z"
   },
   {
    "duration": 50,
    "start_time": "2024-08-12T13:17:48.289Z"
   },
   {
    "duration": 28,
    "start_time": "2024-08-12T13:17:48.342Z"
   },
   {
    "duration": 64,
    "start_time": "2024-08-12T13:17:48.377Z"
   },
   {
    "duration": 37,
    "start_time": "2024-08-12T13:17:48.444Z"
   },
   {
    "duration": 57,
    "start_time": "2024-08-12T13:17:48.484Z"
   },
   {
    "duration": 615,
    "start_time": "2024-08-12T13:17:48.545Z"
   },
   {
    "duration": 434,
    "start_time": "2024-08-12T13:17:49.163Z"
   },
   {
    "duration": 35,
    "start_time": "2024-08-12T13:17:49.600Z"
   },
   {
    "duration": 344,
    "start_time": "2024-08-12T13:17:49.639Z"
   },
   {
    "duration": 490,
    "start_time": "2024-08-12T13:17:49.986Z"
   },
   {
    "duration": 521,
    "start_time": "2024-08-12T13:17:50.479Z"
   },
   {
    "duration": 39,
    "start_time": "2024-08-12T13:17:51.004Z"
   },
   {
    "duration": 237,
    "start_time": "2024-08-12T13:17:51.046Z"
   },
   {
    "duration": 295,
    "start_time": "2024-08-12T13:17:51.286Z"
   },
   {
    "duration": 46,
    "start_time": "2024-08-12T13:17:51.585Z"
   },
   {
    "duration": 271,
    "start_time": "2024-08-12T13:17:51.634Z"
   },
   {
    "duration": 287,
    "start_time": "2024-08-12T13:17:51.908Z"
   },
   {
    "duration": 16,
    "start_time": "2024-08-12T13:17:52.198Z"
   },
   {
    "duration": 249,
    "start_time": "2024-08-12T13:17:52.231Z"
   },
   {
    "duration": 14,
    "start_time": "2024-08-12T13:17:52.484Z"
   },
   {
    "duration": 35,
    "start_time": "2024-08-12T13:17:52.503Z"
   },
   {
    "duration": 16,
    "start_time": "2024-08-12T13:19:42.976Z"
   },
   {
    "duration": 1249,
    "start_time": "2024-08-14T14:53:51.997Z"
   },
   {
    "duration": 290,
    "start_time": "2024-08-14T14:53:53.249Z"
   },
   {
    "duration": 89,
    "start_time": "2024-08-14T14:53:53.545Z"
   },
   {
    "duration": 13,
    "start_time": "2024-08-14T14:53:53.637Z"
   },
   {
    "duration": 9,
    "start_time": "2024-08-14T14:53:53.656Z"
   },
   {
    "duration": 11,
    "start_time": "2024-08-14T14:53:53.669Z"
   },
   {
    "duration": 58,
    "start_time": "2024-08-14T14:53:53.683Z"
   },
   {
    "duration": 12,
    "start_time": "2024-08-14T14:53:53.743Z"
   },
   {
    "duration": 21,
    "start_time": "2024-08-14T14:53:53.758Z"
   },
   {
    "duration": 61,
    "start_time": "2024-08-14T14:53:53.781Z"
   },
   {
    "duration": 24,
    "start_time": "2024-08-14T14:53:53.846Z"
   },
   {
    "duration": 7654,
    "start_time": "2024-08-14T14:53:53.873Z"
   },
   {
    "duration": 55,
    "start_time": "2024-08-14T14:54:01.535Z"
   },
   {
    "duration": 50,
    "start_time": "2024-08-14T14:54:01.597Z"
   },
   {
    "duration": 20,
    "start_time": "2024-08-14T14:54:01.650Z"
   },
   {
    "duration": 2339,
    "start_time": "2024-08-14T14:54:01.673Z"
   },
   {
    "duration": 43,
    "start_time": "2024-08-14T14:54:04.015Z"
   },
   {
    "duration": 25,
    "start_time": "2024-08-14T14:54:04.061Z"
   },
   {
    "duration": 53,
    "start_time": "2024-08-14T14:54:04.089Z"
   },
   {
    "duration": 4343,
    "start_time": "2024-08-14T14:54:04.145Z"
   },
   {
    "duration": 56,
    "start_time": "2024-08-14T14:54:08.491Z"
   },
   {
    "duration": 47,
    "start_time": "2024-08-14T14:54:08.550Z"
   },
   {
    "duration": 9,
    "start_time": "2024-08-14T14:54:08.600Z"
   },
   {
    "duration": 45,
    "start_time": "2024-08-14T14:54:08.612Z"
   },
   {
    "duration": 30,
    "start_time": "2024-08-14T14:54:08.660Z"
   },
   {
    "duration": 46,
    "start_time": "2024-08-14T14:54:08.693Z"
   },
   {
    "duration": 32,
    "start_time": "2024-08-14T14:54:08.743Z"
   },
   {
    "duration": 62,
    "start_time": "2024-08-14T14:54:08.777Z"
   },
   {
    "duration": 40,
    "start_time": "2024-08-14T14:54:08.842Z"
   },
   {
    "duration": 50,
    "start_time": "2024-08-14T14:54:08.885Z"
   },
   {
    "duration": 759,
    "start_time": "2024-08-14T14:54:08.939Z"
   },
   {
    "duration": 473,
    "start_time": "2024-08-14T14:54:09.701Z"
   },
   {
    "duration": 21,
    "start_time": "2024-08-14T14:54:10.177Z"
   },
   {
    "duration": 311,
    "start_time": "2024-08-14T14:54:10.201Z"
   },
   {
    "duration": 521,
    "start_time": "2024-08-14T14:54:10.515Z"
   },
   {
    "duration": 515,
    "start_time": "2024-08-14T14:54:11.042Z"
   },
   {
    "duration": 29,
    "start_time": "2024-08-14T14:54:11.560Z"
   },
   {
    "duration": 248,
    "start_time": "2024-08-14T14:54:11.592Z"
   },
   {
    "duration": 306,
    "start_time": "2024-08-14T14:54:11.843Z"
   },
   {
    "duration": 40,
    "start_time": "2024-08-14T14:54:12.152Z"
   },
   {
    "duration": 267,
    "start_time": "2024-08-14T14:54:12.202Z"
   },
   {
    "duration": 369,
    "start_time": "2024-08-14T14:54:12.472Z"
   },
   {
    "duration": 18,
    "start_time": "2024-08-14T14:54:12.843Z"
   },
   {
    "duration": 258,
    "start_time": "2024-08-14T14:54:12.864Z"
   },
   {
    "duration": 17,
    "start_time": "2024-08-14T14:54:13.126Z"
   },
   {
    "duration": 15,
    "start_time": "2024-08-14T14:54:13.147Z"
   }
  ],
  "colab": {
   "provenance": []
  },
  "kernelspec": {
   "display_name": "Python 3 (ipykernel)",
   "language": "python",
   "name": "python3"
  },
  "language_info": {
   "codemirror_mode": {
    "name": "ipython",
    "version": 3
   },
   "file_extension": ".py",
   "mimetype": "text/x-python",
   "name": "python",
   "nbconvert_exporter": "python",
   "pygments_lexer": "ipython3",
   "version": "3.9.19"
  },
  "toc": {
   "base_numbering": 1,
   "nav_menu": {},
   "number_sections": true,
   "sideBar": true,
   "skip_h1_title": false,
   "title_cell": "Table of Contents",
   "title_sidebar": "Contents",
   "toc_cell": false,
   "toc_position": {},
   "toc_section_display": true,
   "toc_window_display": true
  }
 },
 "nbformat": 4,
 "nbformat_minor": 1
}
